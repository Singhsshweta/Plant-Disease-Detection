{
 "cells": [
  {
   "cell_type": "code",
   "execution_count": 1,
   "id": "67c0c9a8",
   "metadata": {
    "execution": {
     "iopub.execute_input": "2025-01-06T18:33:00.999470Z",
     "iopub.status.busy": "2025-01-06T18:33:00.998678Z",
     "iopub.status.idle": "2025-01-06T18:33:01.852388Z",
     "shell.execute_reply": "2025-01-06T18:33:01.851696Z"
    },
    "papermill": {
     "duration": 0.859807,
     "end_time": "2025-01-06T18:33:01.854389",
     "exception": false,
     "start_time": "2025-01-06T18:33:00.994582",
     "status": "completed"
    },
    "tags": []
   },
   "outputs": [
    {
     "name": "stderr",
     "output_type": "stream",
     "text": [
      "/opt/conda/lib/python3.10/site-packages/scipy/__init__.py:146: UserWarning: A NumPy version >=1.16.5 and <1.23.0 is required for this version of SciPy (detected version 1.24.3\n",
      "  warnings.warn(f\"A NumPy version >={np_minversion} and <{np_maxversion}\"\n"
     ]
    }
   ],
   "source": [
    "import os\n",
    "import zipfile\n",
    "import shutil\n",
    "from sklearn.model_selection import train_test_split"
   ]
  },
  {
   "cell_type": "code",
   "execution_count": 2,
   "id": "9b817a0a",
   "metadata": {
    "execution": {
     "iopub.execute_input": "2025-01-06T18:33:01.860407Z",
     "iopub.status.busy": "2025-01-06T18:33:01.860146Z",
     "iopub.status.idle": "2025-01-06T18:33:01.863719Z",
     "shell.execute_reply": "2025-01-06T18:33:01.862977Z"
    },
    "papermill": {
     "duration": 0.008252,
     "end_time": "2025-01-06T18:33:01.865310",
     "exception": false,
     "start_time": "2025-01-06T18:33:01.857058",
     "status": "completed"
    },
    "tags": []
   },
   "outputs": [],
   "source": [
    "extract_path = \"/kaggle/input/plant-leaf/Plant_leave_diseases_dataset_without_augmentation\"\n",
    "output_dir = '/kaggle/working/'"
   ]
  },
  {
   "cell_type": "code",
   "execution_count": 3,
   "id": "64d389ea",
   "metadata": {
    "execution": {
     "iopub.execute_input": "2025-01-06T18:33:01.870893Z",
     "iopub.status.busy": "2025-01-06T18:33:01.870428Z",
     "iopub.status.idle": "2025-01-06T18:37:12.082325Z",
     "shell.execute_reply": "2025-01-06T18:37:12.081496Z"
    },
    "papermill": {
     "duration": 250.218876,
     "end_time": "2025-01-06T18:37:12.086448",
     "exception": false,
     "start_time": "2025-01-06T18:33:01.867572",
     "status": "completed"
    },
    "tags": []
   },
   "outputs": [
    {
     "name": "stdout",
     "output_type": "stream",
     "text": [
      "Dataset has been successfully split into train, valid, and test sets!\n"
     ]
    }
   ],
   "source": [
    "# Create output subdirectories for train, valid, and test\n",
    "subdirs = ['train', 'valid', 'test']\n",
    "for subdir in subdirs:\n",
    "    os.makedirs(os.path.join(output_dir, subdir), exist_ok=True)\n",
    "\n",
    "# Split ratios\n",
    "train_ratio = 0.7\n",
    "valid_ratio = 0.2\n",
    "test_ratio = 0.1\n",
    "\n",
    "# Process each class folder\n",
    "for class_name in os.listdir(extract_path):\n",
    "    class_path = os.path.join(extract_path, class_name)\n",
    "    \n",
    "    # Check if it's a directory\n",
    "    if os.path.isdir(class_path):\n",
    "        # Get all image filenames in the folder\n",
    "        images = [f for f in os.listdir(class_path) if os.path.isfile(os.path.join(class_path, f))]\n",
    "        \n",
    "        if not images:\n",
    "            print(f\"No images found in {class_name}, skipping...\")\n",
    "            continue\n",
    "        \n",
    "        # Split the dataset into train, valid, and test\n",
    "        train_files, temp_files = train_test_split(images, test_size=(1 - train_ratio), random_state=42)\n",
    "        valid_files, test_files = train_test_split(temp_files, test_size=(test_ratio / (valid_ratio + test_ratio)), random_state=42)\n",
    "        \n",
    "        # Copy files to respective directories\n",
    "        for split, split_files in zip(subdirs, [train_files, valid_files, test_files]):\n",
    "            split_class_dir = os.path.join(output_dir, split, class_name)\n",
    "            os.makedirs(split_class_dir, exist_ok=True)\n",
    "            \n",
    "            for file_name in split_files:\n",
    "                src = os.path.join(class_path, file_name)\n",
    "                dest = os.path.join(split_class_dir, file_name)\n",
    "                shutil.copy(src, dest)\n",
    "\n",
    "print(\"Dataset has been successfully split into train, valid, and test sets!\")\n",
    "\n",
    "\n"
   ]
  },
  {
   "cell_type": "code",
   "execution_count": 4,
   "id": "0830d5e2",
   "metadata": {
    "execution": {
     "iopub.execute_input": "2025-01-06T18:37:12.092182Z",
     "iopub.status.busy": "2025-01-06T18:37:12.091925Z",
     "iopub.status.idle": "2025-01-06T18:37:23.695466Z",
     "shell.execute_reply": "2025-01-06T18:37:23.694639Z"
    },
    "papermill": {
     "duration": 11.608424,
     "end_time": "2025-01-06T18:37:23.697255",
     "exception": false,
     "start_time": "2025-01-06T18:37:12.088831",
     "status": "completed"
    },
    "tags": []
   },
   "outputs": [
    {
     "name": "stdout",
     "output_type": "stream",
     "text": [
      "Found 38791 images belonging to 39 classes.\n",
      "Found 11087 images belonging to 39 classes.\n",
      "Found 5570 images belonging to 39 classes.\n",
      "Class Indices: {'Apple___Apple_scab': 0, 'Apple___Black_rot': 1, 'Apple___Cedar_apple_rust': 2, 'Apple___healthy': 3, 'Background_without_leaves': 4, 'Blueberry___healthy': 5, 'Cherry___Powdery_mildew': 6, 'Cherry___healthy': 7, 'Corn___Cercospora_leaf_spot Gray_leaf_spot': 8, 'Corn___Common_rust': 9, 'Corn___Northern_Leaf_Blight': 10, 'Corn___healthy': 11, 'Grape___Black_rot': 12, 'Grape___Esca_(Black_Measles)': 13, 'Grape___Leaf_blight_(Isariopsis_Leaf_Spot)': 14, 'Grape___healthy': 15, 'Orange___Haunglongbing_(Citrus_greening)': 16, 'Peach___Bacterial_spot': 17, 'Peach___healthy': 18, 'Pepper,_bell___Bacterial_spot': 19, 'Pepper,_bell___healthy': 20, 'Potato___Early_blight': 21, 'Potato___Late_blight': 22, 'Potato___healthy': 23, 'Raspberry___healthy': 24, 'Soybean___healthy': 25, 'Squash___Powdery_mildew': 26, 'Strawberry___Leaf_scorch': 27, 'Strawberry___healthy': 28, 'Tomato___Bacterial_spot': 29, 'Tomato___Early_blight': 30, 'Tomato___Late_blight': 31, 'Tomato___Leaf_Mold': 32, 'Tomato___Septoria_leaf_spot': 33, 'Tomato___Spider_mites Two-spotted_spider_mite': 34, 'Tomato___Target_Spot': 35, 'Tomato___Tomato_Yellow_Leaf_Curl_Virus': 36, 'Tomato___Tomato_mosaic_virus': 37, 'Tomato___healthy': 38}\n"
     ]
    }
   ],
   "source": [
    "import os\n",
    "from tensorflow.keras.preprocessing.image import ImageDataGenerator\n",
    "\n",
    "# Paths to split dataset directories\n",
    "base_dir = \"/kaggle/working/\"\n",
    "train_dir = os.path.join(base_dir, 'train')\n",
    "valid_dir = os.path.join(base_dir, 'valid')\n",
    "test_dir = os.path.join(base_dir, 'test')\n",
    "\n",
    "# Image dimensions and batch size\n",
    "img_height = 224\n",
    "img_width = 224\n",
    "batch_size = 32\n",
    "\n",
    "# Data Generators for Training, Validation, and Test Sets (Only Rescaling)\n",
    "data_gen = ImageDataGenerator(rescale=1.0/255.0)\n",
    "\n",
    "# Loading Data with Data Generators\n",
    "train_generator = data_gen.flow_from_directory(\n",
    "    train_dir,\n",
    "    target_size=(img_height, img_width),\n",
    "    batch_size=batch_size,\n",
    "    class_mode='categorical' \n",
    ")\n",
    "\n",
    "valid_generator = data_gen.flow_from_directory(\n",
    "    valid_dir,\n",
    "    target_size=(img_height, img_width),\n",
    "    batch_size=batch_size,\n",
    "    class_mode='categorical'\n",
    ")\n",
    "\n",
    "test_generator = data_gen.flow_from_directory(\n",
    "    test_dir,\n",
    "    target_size=(img_height, img_width),\n",
    "    batch_size=batch_size,\n",
    "    class_mode='categorical',\n",
    "    shuffle=False  \n",
    "    \n",
    ")\n",
    "\n",
    "# Display Class Indices\n",
    "class_indices = train_generator.class_indices\n",
    "print(\"Class Indices:\", class_indices)\n"
   ]
  },
  {
   "cell_type": "code",
   "execution_count": 5,
   "id": "4905910a",
   "metadata": {
    "execution": {
     "iopub.execute_input": "2025-01-06T18:37:23.704045Z",
     "iopub.status.busy": "2025-01-06T18:37:23.703559Z",
     "iopub.status.idle": "2025-01-06T18:37:23.709665Z",
     "shell.execute_reply": "2025-01-06T18:37:23.709081Z"
    },
    "papermill": {
     "duration": 0.011218,
     "end_time": "2025-01-06T18:37:23.711333",
     "exception": false,
     "start_time": "2025-01-06T18:37:23.700115",
     "status": "completed"
    },
    "tags": []
   },
   "outputs": [],
   "source": [
    "import tensorflow as tf\n",
    "from tensorflow.keras.models import Sequential\n",
    "from tensorflow.keras.layers import (\n",
    "    Conv2D, MaxPooling2D, Dense, Dropout, BatchNormalization,\n",
    "    GlobalAveragePooling2D)\n",
    "from tensorflow.keras.optimizers import Adam\n",
    "from sklearn.metrics import classification_report, roc_auc_score\n",
    "import numpy as np"
   ]
  },
  {
   "cell_type": "code",
   "execution_count": 6,
   "id": "89266715",
   "metadata": {
    "execution": {
     "iopub.execute_input": "2025-01-06T18:37:23.717310Z",
     "iopub.status.busy": "2025-01-06T18:37:23.717071Z",
     "iopub.status.idle": "2025-01-06T18:37:25.062621Z",
     "shell.execute_reply": "2025-01-06T18:37:25.061561Z"
    },
    "papermill": {
     "duration": 1.366381,
     "end_time": "2025-01-06T18:37:25.080296",
     "exception": false,
     "start_time": "2025-01-06T18:37:23.713915",
     "status": "completed"
    },
    "tags": []
   },
   "outputs": [
    {
     "name": "stdout",
     "output_type": "stream",
     "text": [
      "Model: \"sequential\"\n",
      "_________________________________________________________________\n",
      " Layer (type)                Output Shape              Param #   \n",
      "=================================================================\n",
      " conv2d (Conv2D)             (None, 224, 224, 32)      896       \n",
      "                                                                 \n",
      " batch_normalization (Batch  (None, 224, 224, 32)      128       \n",
      " Normalization)                                                  \n",
      "                                                                 \n",
      " conv2d_1 (Conv2D)           (None, 224, 224, 32)      9248      \n",
      "                                                                 \n",
      " batch_normalization_1 (Bat  (None, 224, 224, 32)      128       \n",
      " chNormalization)                                                \n",
      "                                                                 \n",
      " max_pooling2d (MaxPooling2  (None, 112, 112, 32)      0         \n",
      " D)                                                              \n",
      "                                                                 \n",
      " conv2d_2 (Conv2D)           (None, 112, 112, 64)      18496     \n",
      "                                                                 \n",
      " batch_normalization_2 (Bat  (None, 112, 112, 64)      256       \n",
      " chNormalization)                                                \n",
      "                                                                 \n",
      " conv2d_3 (Conv2D)           (None, 112, 112, 64)      36928     \n",
      "                                                                 \n",
      " batch_normalization_3 (Bat  (None, 112, 112, 64)      256       \n",
      " chNormalization)                                                \n",
      "                                                                 \n",
      " max_pooling2d_1 (MaxPoolin  (None, 56, 56, 64)        0         \n",
      " g2D)                                                            \n",
      "                                                                 \n",
      " conv2d_4 (Conv2D)           (None, 56, 56, 128)       73856     \n",
      "                                                                 \n",
      " batch_normalization_4 (Bat  (None, 56, 56, 128)       512       \n",
      " chNormalization)                                                \n",
      "                                                                 \n",
      " conv2d_5 (Conv2D)           (None, 56, 56, 128)       147584    \n",
      "                                                                 \n",
      " batch_normalization_5 (Bat  (None, 56, 56, 128)       512       \n",
      " chNormalization)                                                \n",
      "                                                                 \n",
      " max_pooling2d_2 (MaxPoolin  (None, 28, 28, 128)       0         \n",
      " g2D)                                                            \n",
      "                                                                 \n",
      " conv2d_6 (Conv2D)           (None, 28, 28, 256)       295168    \n",
      "                                                                 \n",
      " batch_normalization_6 (Bat  (None, 28, 28, 256)       1024      \n",
      " chNormalization)                                                \n",
      "                                                                 \n",
      " conv2d_7 (Conv2D)           (None, 28, 28, 256)       65792     \n",
      "                                                                 \n",
      " batch_normalization_7 (Bat  (None, 28, 28, 256)       1024      \n",
      " chNormalization)                                                \n",
      "                                                                 \n",
      " max_pooling2d_3 (MaxPoolin  (None, 14, 14, 256)       0         \n",
      " g2D)                                                            \n",
      "                                                                 \n",
      " global_average_pooling2d (  (None, 256)               0         \n",
      " GlobalAveragePooling2D)                                         \n",
      "                                                                 \n",
      " dropout (Dropout)           (None, 256)               0         \n",
      "                                                                 \n",
      " dense (Dense)               (None, 39)                10023     \n",
      "                                                                 \n",
      "=================================================================\n",
      "Total params: 661831 (2.52 MB)\n",
      "Trainable params: 659911 (2.52 MB)\n",
      "Non-trainable params: 1920 (7.50 KB)\n",
      "_________________________________________________________________\n"
     ]
    }
   ],
   "source": [
    "model = Sequential([\n",
    "    # First block\n",
    "    Conv2D(32, (3, 3), activation='relu', input_shape=(224, 224, 3), padding='same'),\n",
    "    BatchNormalization(),\n",
    "    Conv2D(32, (3, 3), activation='relu', padding='same'),\n",
    "    BatchNormalization(),\n",
    "    MaxPooling2D((2, 2)),\n",
    "\n",
    "    # Second block\n",
    "    Conv2D(64, (3, 3), activation='relu', padding='same'),\n",
    "    BatchNormalization(),\n",
    "    Conv2D(64, (3, 3), activation='relu', padding='same'),\n",
    "    BatchNormalization(),\n",
    "    MaxPooling2D((2, 2)),\n",
    "\n",
    "    # Third block\n",
    "    Conv2D(128, (3, 3), activation='relu', padding='same'),\n",
    "    BatchNormalization(),\n",
    "    Conv2D(128, (3, 3), activation='relu', padding='same'),\n",
    "    BatchNormalization(),\n",
    "    MaxPooling2D((2, 2)),\n",
    "\n",
    "    # Fourth block\n",
    "    Conv2D(256, (3, 3), activation='relu', padding='same'),\n",
    "    BatchNormalization(),\n",
    "    Conv2D(256, (1,1), activation='relu', padding='same'),\n",
    "    BatchNormalization(),\n",
    "    MaxPooling2D((2, 2)),\n",
    "\n",
    "    # Global Average Pooling\n",
    "    GlobalAveragePooling2D(),\n",
    "\n",
    "    # Fully connected layers\n",
    "    # Dense(256, activation='relu'),\n",
    "    # BatchNormalization(),\n",
    "    Dropout(0.05),\n",
    "    Dense(len(train_generator.class_indices), activation='softmax')  # Number of classes\n",
    "])\n",
    "model.summary()"
   ]
  },
  {
   "cell_type": "code",
   "execution_count": 7,
   "id": "4c03dcc4",
   "metadata": {
    "execution": {
     "iopub.execute_input": "2025-01-06T18:37:25.092507Z",
     "iopub.status.busy": "2025-01-06T18:37:25.092245Z",
     "iopub.status.idle": "2025-01-06T18:37:25.106009Z",
     "shell.execute_reply": "2025-01-06T18:37:25.105184Z"
    },
    "papermill": {
     "duration": 0.021617,
     "end_time": "2025-01-06T18:37:25.107621",
     "exception": false,
     "start_time": "2025-01-06T18:37:25.086004",
     "status": "completed"
    },
    "tags": []
   },
   "outputs": [],
   "source": [
    "model.compile(\n",
    "    optimizer=Adam(learning_rate=0.001),\n",
    "    loss='categorical_crossentropy',\n",
    "    metrics=['accuracy']\n",
    ")"
   ]
  },
  {
   "cell_type": "code",
   "execution_count": 8,
   "id": "5c6254f3",
   "metadata": {
    "execution": {
     "iopub.execute_input": "2025-01-06T18:37:25.119296Z",
     "iopub.status.busy": "2025-01-06T18:37:25.119051Z",
     "iopub.status.idle": "2025-01-06T19:30:06.879973Z",
     "shell.execute_reply": "2025-01-06T19:30:06.879077Z"
    },
    "papermill": {
     "duration": 3162.63516,
     "end_time": "2025-01-06T19:30:07.748121",
     "exception": false,
     "start_time": "2025-01-06T18:37:25.112961",
     "status": "completed"
    },
    "tags": []
   },
   "outputs": [
    {
     "name": "stdout",
     "output_type": "stream",
     "text": [
      "Epoch 1/15\n",
      "1213/1213 [==============================] - 218s 171ms/step - loss: 0.8493 - accuracy: 0.7565 - val_loss: 0.5557 - val_accuracy: 0.8257\n",
      "Epoch 2/15\n",
      "1213/1213 [==============================] - 212s 174ms/step - loss: 0.3221 - accuracy: 0.9030 - val_loss: 0.2574 - val_accuracy: 0.9186\n",
      "Epoch 3/15\n",
      "1213/1213 [==============================] - 213s 176ms/step - loss: 0.1993 - accuracy: 0.9381 - val_loss: 0.3553 - val_accuracy: 0.8854\n",
      "Epoch 4/15\n",
      "1213/1213 [==============================] - 211s 174ms/step - loss: 0.1434 - accuracy: 0.9556 - val_loss: 0.8607 - val_accuracy: 0.7837\n",
      "Epoch 5/15\n",
      "1213/1213 [==============================] - 210s 173ms/step - loss: 0.1123 - accuracy: 0.9647 - val_loss: 0.3812 - val_accuracy: 0.8925\n",
      "Epoch 6/15\n",
      "1213/1213 [==============================] - 209s 172ms/step - loss: 0.0843 - accuracy: 0.9734 - val_loss: 0.3390 - val_accuracy: 0.8975\n",
      "Epoch 7/15\n",
      "1213/1213 [==============================] - 210s 173ms/step - loss: 0.0717 - accuracy: 0.9773 - val_loss: 0.6265 - val_accuracy: 0.8673\n",
      "Epoch 8/15\n",
      "1213/1213 [==============================] - 209s 172ms/step - loss: 0.0615 - accuracy: 0.9805 - val_loss: 0.3729 - val_accuracy: 0.8923\n",
      "Epoch 9/15\n",
      "1213/1213 [==============================] - 210s 173ms/step - loss: 0.0500 - accuracy: 0.9835 - val_loss: 0.9421 - val_accuracy: 0.7887\n",
      "Epoch 10/15\n",
      "1213/1213 [==============================] - 210s 173ms/step - loss: 0.0474 - accuracy: 0.9853 - val_loss: 0.6682 - val_accuracy: 0.8283\n",
      "Epoch 11/15\n",
      "1213/1213 [==============================] - 213s 175ms/step - loss: 0.0410 - accuracy: 0.9867 - val_loss: 0.5250 - val_accuracy: 0.8740\n",
      "Epoch 12/15\n",
      "1213/1213 [==============================] - 208s 172ms/step - loss: 0.0366 - accuracy: 0.9887 - val_loss: 0.1650 - val_accuracy: 0.9517\n",
      "Epoch 13/15\n",
      "1213/1213 [==============================] - 209s 172ms/step - loss: 0.0337 - accuracy: 0.9890 - val_loss: 0.3572 - val_accuracy: 0.8996\n",
      "Epoch 14/15\n",
      "1213/1213 [==============================] - 211s 174ms/step - loss: 0.0319 - accuracy: 0.9895 - val_loss: 1.0337 - val_accuracy: 0.8089\n",
      "Epoch 15/15\n",
      "1213/1213 [==============================] - 209s 173ms/step - loss: 0.0294 - accuracy: 0.9903 - val_loss: 0.6025 - val_accuracy: 0.8743\n"
     ]
    }
   ],
   "source": [
    "history = model.fit(\n",
    "    train_generator,\n",
    "    validation_data=valid_generator,\n",
    "    epochs=15,  \n",
    "    verbose=1\n",
    ")"
   ]
  },
  {
   "cell_type": "code",
   "execution_count": 9,
   "id": "4dc0ab6d",
   "metadata": {
    "execution": {
     "iopub.execute_input": "2025-01-06T19:30:09.566024Z",
     "iopub.status.busy": "2025-01-06T19:30:09.564939Z",
     "iopub.status.idle": "2025-01-06T19:30:18.572962Z",
     "shell.execute_reply": "2025-01-06T19:30:18.572065Z"
    },
    "papermill": {
     "duration": 9.92714,
     "end_time": "2025-01-06T19:30:18.574564",
     "exception": false,
     "start_time": "2025-01-06T19:30:08.647424",
     "status": "completed"
    },
    "tags": []
   },
   "outputs": [
    {
     "name": "stdout",
     "output_type": "stream",
     "text": [
      "175/175 [==============================] - 9s 50ms/step - loss: 0.5929 - accuracy: 0.8779\n",
      "Test Accuracy: 0.8779\n"
     ]
    }
   ],
   "source": [
    "test_loss, test_accuracy = model.evaluate(test_generator, verbose=1)\n",
    "print(f\"Test Accuracy: {test_accuracy:.4f}\")"
   ]
  },
  {
   "cell_type": "code",
   "execution_count": 10,
   "id": "c9a41199",
   "metadata": {
    "execution": {
     "iopub.execute_input": "2025-01-06T19:30:20.331515Z",
     "iopub.status.busy": "2025-01-06T19:30:20.331196Z",
     "iopub.status.idle": "2025-01-06T19:30:29.200106Z",
     "shell.execute_reply": "2025-01-06T19:30:29.199189Z"
    },
    "papermill": {
     "duration": 9.749567,
     "end_time": "2025-01-06T19:30:29.202025",
     "exception": false,
     "start_time": "2025-01-06T19:30:19.452458",
     "status": "completed"
    },
    "tags": []
   },
   "outputs": [
    {
     "name": "stdout",
     "output_type": "stream",
     "text": [
      "175/175 [==============================] - 9s 48ms/step\n",
      "\n",
      "Classification Report:\n",
      "                                               precision    recall  f1-score   support\n",
      "\n",
      "                           Apple___Apple_scab       1.00      0.98      0.99        64\n",
      "                            Apple___Black_rot       1.00      0.89      0.94        63\n",
      "                     Apple___Cedar_apple_rust       1.00      0.96      0.98        28\n",
      "                              Apple___healthy       0.97      0.89      0.93       165\n",
      "                    Background_without_leaves       0.97      0.97      0.97       115\n",
      "                          Blueberry___healthy       0.93      0.91      0.92       151\n",
      "                      Cherry___Powdery_mildew       0.99      0.92      0.95       106\n",
      "                             Cherry___healthy       1.00      0.81      0.90        86\n",
      "   Corn___Cercospora_leaf_spot Gray_leaf_spot       0.64      0.94      0.76        52\n",
      "                           Corn___Common_rust       0.98      0.99      0.99       120\n",
      "                  Corn___Northern_Leaf_Blight       0.97      0.72      0.83        99\n",
      "                               Corn___healthy       0.99      1.00      1.00       117\n",
      "                            Grape___Black_rot       1.00      0.94      0.97       119\n",
      "                 Grape___Esca_(Black_Measles)       1.00      0.99      1.00       139\n",
      "   Grape___Leaf_blight_(Isariopsis_Leaf_Spot)       1.00      0.94      0.97       108\n",
      "                              Grape___healthy       1.00      0.86      0.92        43\n",
      "     Orange___Haunglongbing_(Citrus_greening)       0.99      1.00      0.99       551\n",
      "                       Peach___Bacterial_spot       0.99      0.95      0.97       230\n",
      "                              Peach___healthy       0.97      0.86      0.91        37\n",
      "                Pepper,_bell___Bacterial_spot       0.97      0.76      0.85       100\n",
      "                       Pepper,_bell___healthy       0.93      0.78      0.85       148\n",
      "                        Potato___Early_blight       0.73      1.00      0.84       101\n",
      "                         Potato___Late_blight       1.00      0.53      0.70       101\n",
      "                             Potato___healthy       1.00      0.25      0.40        16\n",
      "                          Raspberry___healthy       1.00      0.79      0.88        38\n",
      "                            Soybean___healthy       0.99      0.89      0.94       510\n",
      "                      Squash___Powdery_mildew       1.00      0.99      1.00       184\n",
      "                     Strawberry___Leaf_scorch       0.99      0.89      0.94       111\n",
      "                         Strawberry___healthy       1.00      0.85      0.92        46\n",
      "                      Tomato___Bacterial_spot       1.00      0.73      0.84       213\n",
      "                        Tomato___Early_blight       0.64      0.88      0.74       101\n",
      "                         Tomato___Late_blight       0.65      0.94      0.77       191\n",
      "                           Tomato___Leaf_Mold       0.75      0.97      0.85        96\n",
      "                  Tomato___Septoria_leaf_spot       0.94      0.86      0.90       178\n",
      "Tomato___Spider_mites Two-spotted_spider_mite       0.94      0.47      0.63       168\n",
      "                         Tomato___Target_Spot       0.95      0.37      0.53       141\n",
      "       Tomato___Tomato_Yellow_Leaf_Curl_Virus       1.00      0.93      0.96       536\n",
      "                 Tomato___Tomato_mosaic_virus       0.95      0.55      0.70        38\n",
      "                             Tomato___healthy       0.30      1.00      0.46       160\n",
      "\n",
      "                                     accuracy                           0.88      5570\n",
      "                                    macro avg       0.93      0.85      0.86      5570\n",
      "                                 weighted avg       0.93      0.88      0.89      5570\n",
      "\n"
     ]
    }
   ],
   "source": [
    "# Predictions and true labels\n",
    "y_pred_probs = model.predict(test_generator, verbose=1)\n",
    "y_pred_classes = np.argmax(y_pred_probs, axis=1)\n",
    "y_true = test_generator.classes\n",
    "\n",
    "# Metrics: Classification Report\n",
    "print(\"\\nClassification Report:\")\n",
    "class_labels = list(test_generator.class_indices.keys())\n",
    "print(classification_report(y_true, y_pred_classes, target_names=class_labels))"
   ]
  }
 ],
 "metadata": {
  "kaggle": {
   "accelerator": "nvidiaTeslaT4",
   "dataSources": [
    {
     "datasetId": 6121008,
     "sourceId": 9952857,
     "sourceType": "datasetVersion"
    }
   ],
   "dockerImageVersionId": 30587,
   "isGpuEnabled": true,
   "isInternetEnabled": true,
   "language": "python",
   "sourceType": "notebook"
  },
  "kernelspec": {
   "display_name": "Python 3",
   "language": "python",
   "name": "python3"
  },
  "language_info": {
   "codemirror_mode": {
    "name": "ipython",
    "version": 3
   },
   "file_extension": ".py",
   "mimetype": "text/x-python",
   "name": "python",
   "nbconvert_exporter": "python",
   "pygments_lexer": "ipython3",
   "version": "3.10.12"
  },
  "papermill": {
   "default_parameters": {},
   "duration": 3454.450265,
   "end_time": "2025-01-06T19:30:32.550811",
   "environment_variables": {},
   "exception": null,
   "input_path": "__notebook__.ipynb",
   "output_path": "__notebook__.ipynb",
   "parameters": {},
   "start_time": "2025-01-06T18:32:58.100546",
   "version": "2.4.0"
  }
 },
 "nbformat": 4,
 "nbformat_minor": 5
}
