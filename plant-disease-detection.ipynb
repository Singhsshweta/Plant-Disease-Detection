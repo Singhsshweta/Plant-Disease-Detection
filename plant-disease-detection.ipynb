{
 "cells": [
  {
   "cell_type": "code",
   "execution_count": 1,
   "id": "d2136774",
   "metadata": {
    "execution": {
     "iopub.execute_input": "2024-12-02T08:08:21.589795Z",
     "iopub.status.busy": "2024-12-02T08:08:21.589017Z",
     "iopub.status.idle": "2024-12-02T08:08:22.684858Z",
     "shell.execute_reply": "2024-12-02T08:08:22.684169Z"
    },
    "papermill": {
     "duration": 1.101711,
     "end_time": "2024-12-02T08:08:22.686909",
     "exception": false,
     "start_time": "2024-12-02T08:08:21.585198",
     "status": "completed"
    },
    "tags": []
   },
   "outputs": [
    {
     "name": "stderr",
     "output_type": "stream",
     "text": [
      "/opt/conda/lib/python3.10/site-packages/scipy/__init__.py:146: UserWarning: A NumPy version >=1.16.5 and <1.23.0 is required for this version of SciPy (detected version 1.24.3\n",
      "  warnings.warn(f\"A NumPy version >={np_minversion} and <{np_maxversion}\"\n"
     ]
    }
   ],
   "source": [
    "import os\n",
    "import zipfile\n",
    "import shutil\n",
    "from sklearn.model_selection import train_test_split"
   ]
  },
  {
   "cell_type": "code",
   "execution_count": 2,
   "id": "97baca94",
   "metadata": {
    "execution": {
     "iopub.execute_input": "2024-12-02T08:08:22.693503Z",
     "iopub.status.busy": "2024-12-02T08:08:22.692866Z",
     "iopub.status.idle": "2024-12-02T08:08:22.696467Z",
     "shell.execute_reply": "2024-12-02T08:08:22.695843Z"
    },
    "papermill": {
     "duration": 0.008266,
     "end_time": "2024-12-02T08:08:22.697960",
     "exception": false,
     "start_time": "2024-12-02T08:08:22.689694",
     "status": "completed"
    },
    "tags": []
   },
   "outputs": [],
   "source": [
    "extract_path = \"/kaggle/input/plant-leaf/Plant_leave_diseases_dataset_without_augmentation\"\n",
    "output_dir = '/kaggle/working/'"
   ]
  },
  {
   "cell_type": "code",
   "execution_count": 3,
   "id": "a3acb2ed",
   "metadata": {
    "execution": {
     "iopub.execute_input": "2024-12-02T08:08:22.703278Z",
     "iopub.status.busy": "2024-12-02T08:08:22.703039Z",
     "iopub.status.idle": "2024-12-02T08:13:16.434792Z",
     "shell.execute_reply": "2024-12-02T08:13:16.433929Z"
    },
    "papermill": {
     "duration": 293.738894,
     "end_time": "2024-12-02T08:13:16.439055",
     "exception": false,
     "start_time": "2024-12-02T08:08:22.700161",
     "status": "completed"
    },
    "tags": []
   },
   "outputs": [
    {
     "name": "stdout",
     "output_type": "stream",
     "text": [
      "Dataset has been successfully split into train, valid, and test sets!\n"
     ]
    }
   ],
   "source": [
    "# Create output subdirectories for train, valid, and test\n",
    "subdirs = ['train', 'valid', 'test']\n",
    "for subdir in subdirs:\n",
    "    os.makedirs(os.path.join(output_dir, subdir), exist_ok=True)\n",
    "\n",
    "# Split ratios\n",
    "train_ratio = 0.7\n",
    "valid_ratio = 0.2\n",
    "test_ratio = 0.1\n",
    "\n",
    "# Process each class folder\n",
    "for class_name in os.listdir(extract_path):\n",
    "    class_path = os.path.join(extract_path, class_name)\n",
    "    \n",
    "    # Check if it's a directory\n",
    "    if os.path.isdir(class_path):\n",
    "        # Get all image filenames in the folder\n",
    "        images = [f for f in os.listdir(class_path) if os.path.isfile(os.path.join(class_path, f))]\n",
    "        \n",
    "        if not images:\n",
    "            print(f\"No images found in {class_name}, skipping...\")\n",
    "            continue\n",
    "        \n",
    "        # Split the dataset into train, valid, and test\n",
    "        train_files, temp_files = train_test_split(images, test_size=(1 - train_ratio), random_state=42)\n",
    "        valid_files, test_files = train_test_split(temp_files, test_size=(test_ratio / (valid_ratio + test_ratio)), random_state=42)\n",
    "        \n",
    "        # Copy files to respective directories\n",
    "        for split, split_files in zip(subdirs, [train_files, valid_files, test_files]):\n",
    "            split_class_dir = os.path.join(output_dir, split, class_name)\n",
    "            os.makedirs(split_class_dir, exist_ok=True)\n",
    "            \n",
    "            for file_name in split_files:\n",
    "                src = os.path.join(class_path, file_name)\n",
    "                dest = os.path.join(split_class_dir, file_name)\n",
    "                shutil.copy(src, dest)\n",
    "\n",
    "print(\"Dataset has been successfully split into train, valid, and test sets!\")\n",
    "\n",
    "\n"
   ]
  },
  {
   "cell_type": "code",
   "execution_count": 4,
   "id": "225883ce",
   "metadata": {
    "execution": {
     "iopub.execute_input": "2024-12-02T08:13:16.444881Z",
     "iopub.status.busy": "2024-12-02T08:13:16.444631Z",
     "iopub.status.idle": "2024-12-02T08:13:30.299432Z",
     "shell.execute_reply": "2024-12-02T08:13:30.298574Z"
    },
    "papermill": {
     "duration": 13.859705,
     "end_time": "2024-12-02T08:13:30.301120",
     "exception": false,
     "start_time": "2024-12-02T08:13:16.441415",
     "status": "completed"
    },
    "tags": []
   },
   "outputs": [
    {
     "name": "stdout",
     "output_type": "stream",
     "text": [
      "Found 38791 images belonging to 39 classes.\n",
      "Found 11087 images belonging to 39 classes.\n",
      "Found 5570 images belonging to 39 classes.\n",
      "Class Indices: {'Apple___Apple_scab': 0, 'Apple___Black_rot': 1, 'Apple___Cedar_apple_rust': 2, 'Apple___healthy': 3, 'Background_without_leaves': 4, 'Blueberry___healthy': 5, 'Cherry___Powdery_mildew': 6, 'Cherry___healthy': 7, 'Corn___Cercospora_leaf_spot Gray_leaf_spot': 8, 'Corn___Common_rust': 9, 'Corn___Northern_Leaf_Blight': 10, 'Corn___healthy': 11, 'Grape___Black_rot': 12, 'Grape___Esca_(Black_Measles)': 13, 'Grape___Leaf_blight_(Isariopsis_Leaf_Spot)': 14, 'Grape___healthy': 15, 'Orange___Haunglongbing_(Citrus_greening)': 16, 'Peach___Bacterial_spot': 17, 'Peach___healthy': 18, 'Pepper,_bell___Bacterial_spot': 19, 'Pepper,_bell___healthy': 20, 'Potato___Early_blight': 21, 'Potato___Late_blight': 22, 'Potato___healthy': 23, 'Raspberry___healthy': 24, 'Soybean___healthy': 25, 'Squash___Powdery_mildew': 26, 'Strawberry___Leaf_scorch': 27, 'Strawberry___healthy': 28, 'Tomato___Bacterial_spot': 29, 'Tomato___Early_blight': 30, 'Tomato___Late_blight': 31, 'Tomato___Leaf_Mold': 32, 'Tomato___Septoria_leaf_spot': 33, 'Tomato___Spider_mites Two-spotted_spider_mite': 34, 'Tomato___Target_Spot': 35, 'Tomato___Tomato_Yellow_Leaf_Curl_Virus': 36, 'Tomato___Tomato_mosaic_virus': 37, 'Tomato___healthy': 38}\n"
     ]
    }
   ],
   "source": [
    "import os\n",
    "from tensorflow.keras.preprocessing.image import ImageDataGenerator\n",
    "\n",
    "# Paths to split dataset directories\n",
    "base_dir = \"/kaggle/working/\"\n",
    "train_dir = os.path.join(base_dir, 'train')\n",
    "valid_dir = os.path.join(base_dir, 'valid')\n",
    "test_dir = os.path.join(base_dir, 'test')\n",
    "\n",
    "# Image dimensions and batch size\n",
    "img_height = 224\n",
    "img_width = 224\n",
    "batch_size = 32\n",
    "\n",
    "# Data Generators for Training, Validation, and Test Sets (Only Rescaling)\n",
    "data_gen = ImageDataGenerator(rescale=1.0/255.0)\n",
    "\n",
    "# Loading Data with Data Generators\n",
    "train_generator = data_gen.flow_from_directory(\n",
    "    train_dir,\n",
    "    target_size=(img_height, img_width),\n",
    "    batch_size=batch_size,\n",
    "    class_mode='categorical' \n",
    ")\n",
    "\n",
    "valid_generator = data_gen.flow_from_directory(\n",
    "    valid_dir,\n",
    "    target_size=(img_height, img_width),\n",
    "    batch_size=batch_size,\n",
    "    class_mode='categorical'\n",
    ")\n",
    "\n",
    "test_generator = data_gen.flow_from_directory(\n",
    "    test_dir,\n",
    "    target_size=(img_height, img_width),\n",
    "    batch_size=batch_size,\n",
    "    class_mode='categorical',\n",
    "    shuffle=False  \n",
    "    \n",
    ")\n",
    "\n",
    "# Display Class Indices\n",
    "class_indices = train_generator.class_indices\n",
    "print(\"Class Indices:\", class_indices)\n"
   ]
  },
  {
   "cell_type": "code",
   "execution_count": 5,
   "id": "b1c63448",
   "metadata": {
    "execution": {
     "iopub.execute_input": "2024-12-02T08:13:30.307763Z",
     "iopub.status.busy": "2024-12-02T08:13:30.307250Z",
     "iopub.status.idle": "2024-12-02T08:13:30.312990Z",
     "shell.execute_reply": "2024-12-02T08:13:30.312404Z"
    },
    "papermill": {
     "duration": 0.010557,
     "end_time": "2024-12-02T08:13:30.314462",
     "exception": false,
     "start_time": "2024-12-02T08:13:30.303905",
     "status": "completed"
    },
    "tags": []
   },
   "outputs": [],
   "source": [
    "import tensorflow as tf\n",
    "from tensorflow.keras.models import Sequential\n",
    "from tensorflow.keras.layers import Conv2D, MaxPooling2D, Flatten, Dense, Dropout\n",
    "from tensorflow.keras.optimizers import Adam\n",
    "from sklearn.metrics import classification_report, roc_auc_score\n",
    "import numpy as np"
   ]
  },
  {
   "cell_type": "code",
   "execution_count": 6,
   "id": "40065299",
   "metadata": {
    "execution": {
     "iopub.execute_input": "2024-12-02T08:13:30.320288Z",
     "iopub.status.busy": "2024-12-02T08:13:30.320057Z",
     "iopub.status.idle": "2024-12-02T08:13:31.774325Z",
     "shell.execute_reply": "2024-12-02T08:13:31.773445Z"
    },
    "papermill": {
     "duration": 1.459454,
     "end_time": "2024-12-02T08:13:31.776436",
     "exception": false,
     "start_time": "2024-12-02T08:13:30.316982",
     "status": "completed"
    },
    "tags": []
   },
   "outputs": [],
   "source": [
    "model = Sequential([\n",
    "    Conv2D(32, (3, 3), activation='relu', input_shape=(224, 224, 3)),\n",
    "    MaxPooling2D((2, 2)),\n",
    "    Conv2D(64, (3, 3), activation='relu'),\n",
    "    MaxPooling2D((2, 2)),\n",
    "    Conv2D(128, (3, 3), activation='relu'),\n",
    "    MaxPooling2D((2, 2)),\n",
    "    Flatten(),\n",
    "    Dense(256, activation='relu'),\n",
    "    Dropout(0.5),\n",
    "    Dense(len(train_generator.class_indices), activation='softmax')  # Number of classes\n",
    "])"
   ]
  },
  {
   "cell_type": "code",
   "execution_count": 7,
   "id": "2cd26e27",
   "metadata": {
    "execution": {
     "iopub.execute_input": "2024-12-02T08:13:31.786159Z",
     "iopub.status.busy": "2024-12-02T08:13:31.785634Z",
     "iopub.status.idle": "2024-12-02T08:13:31.798822Z",
     "shell.execute_reply": "2024-12-02T08:13:31.798023Z"
    },
    "papermill": {
     "duration": 0.018646,
     "end_time": "2024-12-02T08:13:31.800489",
     "exception": false,
     "start_time": "2024-12-02T08:13:31.781843",
     "status": "completed"
    },
    "tags": []
   },
   "outputs": [],
   "source": [
    "model.compile(\n",
    "    optimizer=Adam(learning_rate=0.001),\n",
    "    loss='categorical_crossentropy',\n",
    "    metrics=['accuracy']\n",
    ")"
   ]
  },
  {
   "cell_type": "code",
   "execution_count": 8,
   "id": "132a3e3e",
   "metadata": {
    "execution": {
     "iopub.execute_input": "2024-12-02T08:13:31.806782Z",
     "iopub.status.busy": "2024-12-02T08:13:31.806292Z",
     "iopub.status.idle": "2024-12-02T08:26:23.106736Z",
     "shell.execute_reply": "2024-12-02T08:26:23.105879Z"
    },
    "papermill": {
     "duration": 771.63369,
     "end_time": "2024-12-02T08:26:23.436733",
     "exception": false,
     "start_time": "2024-12-02T08:13:31.803043",
     "status": "completed"
    },
    "tags": []
   },
   "outputs": [
    {
     "name": "stdout",
     "output_type": "stream",
     "text": [
      "Epoch 1/10\n",
      "1213/1213 [==============================] - 84s 65ms/step - loss: 1.3685 - accuracy: 0.6170 - val_loss: 0.5425 - val_accuracy: 0.8323\n",
      "Epoch 2/10\n",
      "1213/1213 [==============================] - 78s 64ms/step - loss: 0.6663 - accuracy: 0.7961 - val_loss: 0.4212 - val_accuracy: 0.8696\n",
      "Epoch 3/10\n",
      "1213/1213 [==============================] - 75s 62ms/step - loss: 0.4743 - accuracy: 0.8514 - val_loss: 0.3605 - val_accuracy: 0.8899\n",
      "Epoch 4/10\n",
      "1213/1213 [==============================] - 75s 62ms/step - loss: 0.3588 - accuracy: 0.8833 - val_loss: 0.2496 - val_accuracy: 0.9245\n",
      "Epoch 5/10\n",
      "1213/1213 [==============================] - 79s 65ms/step - loss: 0.2873 - accuracy: 0.9069 - val_loss: 0.2476 - val_accuracy: 0.9237\n",
      "Epoch 6/10\n",
      "1213/1213 [==============================] - 77s 63ms/step - loss: 0.2407 - accuracy: 0.9216 - val_loss: 0.2717 - val_accuracy: 0.9233\n",
      "Epoch 7/10\n",
      "1213/1213 [==============================] - 75s 62ms/step - loss: 0.1903 - accuracy: 0.9386 - val_loss: 0.2423 - val_accuracy: 0.9337\n",
      "Epoch 8/10\n",
      "1213/1213 [==============================] - 76s 63ms/step - loss: 0.1719 - accuracy: 0.9444 - val_loss: 0.2424 - val_accuracy: 0.9378\n",
      "Epoch 9/10\n",
      "1213/1213 [==============================] - 76s 62ms/step - loss: 0.1433 - accuracy: 0.9535 - val_loss: 0.2599 - val_accuracy: 0.9324\n",
      "Epoch 10/10\n",
      "1213/1213 [==============================] - 76s 62ms/step - loss: 0.1407 - accuracy: 0.9553 - val_loss: 0.3033 - val_accuracy: 0.9280\n"
     ]
    }
   ],
   "source": [
    "history = model.fit(\n",
    "    train_generator,\n",
    "    validation_data=valid_generator,\n",
    "    epochs=10,  \n",
    "    verbose=1\n",
    ")"
   ]
  },
  {
   "cell_type": "code",
   "execution_count": 9,
   "id": "cff1f3dc",
   "metadata": {
    "execution": {
     "iopub.execute_input": "2024-12-02T08:26:24.101809Z",
     "iopub.status.busy": "2024-12-02T08:26:24.101419Z",
     "iopub.status.idle": "2024-12-02T08:26:33.730324Z",
     "shell.execute_reply": "2024-12-02T08:26:33.729576Z"
    },
    "papermill": {
     "duration": 9.960834,
     "end_time": "2024-12-02T08:26:33.732396",
     "exception": false,
     "start_time": "2024-12-02T08:26:23.771562",
     "status": "completed"
    },
    "tags": []
   },
   "outputs": [
    {
     "name": "stdout",
     "output_type": "stream",
     "text": [
      "175/175 [==============================] - 10s 54ms/step - loss: 0.2591 - accuracy: 0.9294\n",
      "Test Accuracy: 0.9294\n"
     ]
    }
   ],
   "source": [
    "test_loss, test_accuracy = model.evaluate(test_generator, verbose=1)\n",
    "print(f\"Test Accuracy: {test_accuracy:.4f}\")"
   ]
  },
  {
   "cell_type": "code",
   "execution_count": 10,
   "id": "eaf71bf3",
   "metadata": {
    "execution": {
     "iopub.execute_input": "2024-12-02T08:26:34.444464Z",
     "iopub.status.busy": "2024-12-02T08:26:34.444122Z",
     "iopub.status.idle": "2024-12-02T08:26:44.612310Z",
     "shell.execute_reply": "2024-12-02T08:26:44.611058Z"
    },
    "papermill": {
     "duration": 10.505855,
     "end_time": "2024-12-02T08:26:44.614863",
     "exception": false,
     "start_time": "2024-12-02T08:26:34.109008",
     "status": "completed"
    },
    "tags": []
   },
   "outputs": [
    {
     "name": "stdout",
     "output_type": "stream",
     "text": [
      "175/175 [==============================] - 10s 56ms/step\n",
      "\n",
      "Classification Report:\n",
      "                                               precision    recall  f1-score   support\n",
      "\n",
      "                           Apple___Apple_scab       0.79      0.91      0.85        64\n",
      "                            Apple___Black_rot       0.91      0.97      0.94        63\n",
      "                     Apple___Cedar_apple_rust       1.00      0.75      0.86        28\n",
      "                              Apple___healthy       0.80      0.98      0.88       165\n",
      "                    Background_without_leaves       0.94      0.99      0.97       115\n",
      "                          Blueberry___healthy       0.89      0.98      0.93       151\n",
      "                      Cherry___Powdery_mildew       0.92      0.92      0.92       106\n",
      "                             Cherry___healthy       0.94      0.94      0.94        86\n",
      "   Corn___Cercospora_leaf_spot Gray_leaf_spot       0.76      0.75      0.76        52\n",
      "                           Corn___Common_rust       0.98      0.99      0.99       120\n",
      "                  Corn___Northern_Leaf_Blight       0.90      0.90      0.90        99\n",
      "                               Corn___healthy       0.96      1.00      0.98       117\n",
      "                            Grape___Black_rot       0.94      0.90      0.92       119\n",
      "                 Grape___Esca_(Black_Measles)       0.94      0.96      0.95       139\n",
      "   Grape___Leaf_blight_(Isariopsis_Leaf_Spot)       0.99      0.93      0.96       108\n",
      "                              Grape___healthy       0.97      0.81      0.89        43\n",
      "     Orange___Haunglongbing_(Citrus_greening)       0.99      0.99      0.99       551\n",
      "                       Peach___Bacterial_spot       0.92      0.93      0.92       230\n",
      "                              Peach___healthy       0.97      0.84      0.90        37\n",
      "                Pepper,_bell___Bacterial_spot       0.85      0.87      0.86       100\n",
      "                       Pepper,_bell___healthy       0.86      0.97      0.91       148\n",
      "                        Potato___Early_blight       0.84      0.97      0.90       101\n",
      "                         Potato___Late_blight       0.89      0.78      0.83       101\n",
      "                             Potato___healthy       0.85      0.69      0.76        16\n",
      "                          Raspberry___healthy       0.97      0.92      0.95        38\n",
      "                            Soybean___healthy       0.98      0.97      0.98       510\n",
      "                      Squash___Powdery_mildew       0.98      0.97      0.97       184\n",
      "                     Strawberry___Leaf_scorch       0.91      0.93      0.92       111\n",
      "                         Strawberry___healthy       0.98      1.00      0.99        46\n",
      "                      Tomato___Bacterial_spot       0.98      0.89      0.93       213\n",
      "                        Tomato___Early_blight       0.92      0.48      0.63       101\n",
      "                         Tomato___Late_blight       0.92      0.81      0.86       191\n",
      "                           Tomato___Leaf_Mold       0.89      0.91      0.90        96\n",
      "                  Tomato___Septoria_leaf_spot       0.86      0.84      0.85       178\n",
      "Tomato___Spider_mites Two-spotted_spider_mite       0.91      0.90      0.90       168\n",
      "                         Tomato___Target_Spot       0.80      0.87      0.83       141\n",
      "       Tomato___Tomato_Yellow_Leaf_Curl_Virus       0.98      0.99      0.98       536\n",
      "                 Tomato___Tomato_mosaic_virus       0.84      1.00      0.92        38\n",
      "                             Tomato___healthy       0.99      0.99      0.99       160\n",
      "\n",
      "                                     accuracy                           0.93      5570\n",
      "                                    macro avg       0.92      0.90      0.90      5570\n",
      "                                 weighted avg       0.93      0.93      0.93      5570\n",
      "\n"
     ]
    }
   ],
   "source": [
    "# Predictions and true labels\n",
    "y_pred_probs = model.predict(test_generator, verbose=1)\n",
    "y_pred_classes = np.argmax(y_pred_probs, axis=1)\n",
    "y_true = test_generator.classes\n",
    "\n",
    "# Metrics: Classification Report\n",
    "print(\"\\nClassification Report:\")\n",
    "class_labels = list(test_generator.class_indices.keys())\n",
    "print(classification_report(y_true, y_pred_classes, target_names=class_labels))"
   ]
  },
  {
   "cell_type": "code",
   "execution_count": 11,
   "id": "bc9743ab",
   "metadata": {
    "execution": {
     "iopub.execute_input": "2024-12-02T08:26:45.315769Z",
     "iopub.status.busy": "2024-12-02T08:26:45.314853Z",
     "iopub.status.idle": "2024-12-02T08:26:45.408380Z",
     "shell.execute_reply": "2024-12-02T08:26:45.407475Z"
    },
    "papermill": {
     "duration": 0.442497,
     "end_time": "2024-12-02T08:26:45.410152",
     "exception": false,
     "start_time": "2024-12-02T08:26:44.967655",
     "status": "completed"
    },
    "tags": []
   },
   "outputs": [
    {
     "name": "stdout",
     "output_type": "stream",
     "text": [
      "Precision: 0.9316\n",
      "Recall: 0.9294\n",
      "F1 Score: 0.9280\n",
      "AUC Score: 0.9988\n"
     ]
    }
   ],
   "source": [
    "# Compute precision, recall, F1-score, and AUC\n",
    "from sklearn.metrics import precision_score, recall_score, f1_score\n",
    "\n",
    "precision = precision_score(y_true, y_pred_classes, average='weighted')\n",
    "recall = recall_score(y_true, y_pred_classes, average='weighted')\n",
    "f1 = f1_score(y_true, y_pred_classes, average='weighted')\n",
    "try:\n",
    "    auc = roc_auc_score(tf.keras.utils.to_categorical(y_true), y_pred_probs, multi_class='ovr', average='weighted')\n",
    "except ValueError:\n",
    "    auc = None  # If AUC computation fails for single-class datasets\n",
    "\n",
    "print(f\"Precision: {precision:.4f}\")\n",
    "print(f\"Recall: {recall:.4f}\")\n",
    "print(f\"F1 Score: {f1:.4f}\")\n",
    "if auc is not None:\n",
    "    print(f\"AUC Score: {auc:.4f}\")\n",
    "else:\n",
    "    print(\"AUC Score: Not applicable for this dataset\")"
   ]
  }
 ],
 "metadata": {
  "kaggle": {
   "accelerator": "nvidiaTeslaT4",
   "dataSources": [
    {
     "datasetId": 6121008,
     "sourceId": 9952857,
     "sourceType": "datasetVersion"
    }
   ],
   "dockerImageVersionId": 30587,
   "isGpuEnabled": true,
   "isInternetEnabled": true,
   "language": "python",
   "sourceType": "notebook"
  },
  "kernelspec": {
   "display_name": "Python 3",
   "language": "python",
   "name": "python3"
  },
  "language_info": {
   "codemirror_mode": {
    "name": "ipython",
    "version": 3
   },
   "file_extension": ".py",
   "mimetype": "text/x-python",
   "name": "python",
   "nbconvert_exporter": "python",
   "pygments_lexer": "ipython3",
   "version": "3.10.12"
  },
  "papermill": {
   "default_parameters": {},
   "duration": 1110.138653,
   "end_time": "2024-12-02T08:26:48.489667",
   "environment_variables": {},
   "exception": null,
   "input_path": "__notebook__.ipynb",
   "output_path": "__notebook__.ipynb",
   "parameters": {},
   "start_time": "2024-12-02T08:08:18.351014",
   "version": "2.4.0"
  }
 },
 "nbformat": 4,
 "nbformat_minor": 5
}
