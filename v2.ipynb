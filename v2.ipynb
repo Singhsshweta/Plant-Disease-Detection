{
 "cells": [
  {
   "cell_type": "code",
   "execution_count": 1,
   "id": "5a7c28ce",
   "metadata": {
    "execution": {
     "iopub.execute_input": "2024-12-06T05:49:42.404145Z",
     "iopub.status.busy": "2024-12-06T05:49:42.403860Z",
     "iopub.status.idle": "2024-12-06T05:49:43.323051Z",
     "shell.execute_reply": "2024-12-06T05:49:43.322377Z"
    },
    "papermill": {
     "duration": 0.925006,
     "end_time": "2024-12-06T05:49:43.325115",
     "exception": false,
     "start_time": "2024-12-06T05:49:42.400109",
     "status": "completed"
    },
    "tags": []
   },
   "outputs": [
    {
     "name": "stderr",
     "output_type": "stream",
     "text": [
      "/opt/conda/lib/python3.10/site-packages/scipy/__init__.py:146: UserWarning: A NumPy version >=1.16.5 and <1.23.0 is required for this version of SciPy (detected version 1.24.3\n",
      "  warnings.warn(f\"A NumPy version >={np_minversion} and <{np_maxversion}\"\n"
     ]
    }
   ],
   "source": [
    "import os\n",
    "import zipfile\n",
    "import shutil\n",
    "from sklearn.model_selection import train_test_split"
   ]
  },
  {
   "cell_type": "code",
   "execution_count": 2,
   "id": "280d8a67",
   "metadata": {
    "execution": {
     "iopub.execute_input": "2024-12-06T05:49:43.333769Z",
     "iopub.status.busy": "2024-12-06T05:49:43.333245Z",
     "iopub.status.idle": "2024-12-06T05:49:43.338627Z",
     "shell.execute_reply": "2024-12-06T05:49:43.337589Z"
    },
    "papermill": {
     "duration": 0.012538,
     "end_time": "2024-12-06T05:49:43.340454",
     "exception": false,
     "start_time": "2024-12-06T05:49:43.327916",
     "status": "completed"
    },
    "tags": []
   },
   "outputs": [],
   "source": [
    "extract_path = \"/kaggle/input/plant-leaf/Plant_leave_diseases_dataset_without_augmentation\"\n",
    "output_dir = '/kaggle/working/'"
   ]
  },
  {
   "cell_type": "code",
   "execution_count": 3,
   "id": "6c0ee1ea",
   "metadata": {
    "execution": {
     "iopub.execute_input": "2024-12-06T05:49:43.346879Z",
     "iopub.status.busy": "2024-12-06T05:49:43.346539Z",
     "iopub.status.idle": "2024-12-06T05:52:59.369689Z",
     "shell.execute_reply": "2024-12-06T05:52:59.368810Z"
    },
    "papermill": {
     "duration": 196.030734,
     "end_time": "2024-12-06T05:52:59.373822",
     "exception": false,
     "start_time": "2024-12-06T05:49:43.343088",
     "status": "completed"
    },
    "tags": []
   },
   "outputs": [
    {
     "name": "stdout",
     "output_type": "stream",
     "text": [
      "Dataset has been successfully split into train, valid, and test sets!\n"
     ]
    }
   ],
   "source": [
    "# Create output subdirectories for train, valid, and test\n",
    "subdirs = ['train', 'valid', 'test']\n",
    "for subdir in subdirs:\n",
    "    os.makedirs(os.path.join(output_dir, subdir), exist_ok=True)\n",
    "\n",
    "# Split ratios\n",
    "train_ratio = 0.7\n",
    "valid_ratio = 0.2\n",
    "test_ratio = 0.1\n",
    "\n",
    "# Process each class folder\n",
    "for class_name in os.listdir(extract_path):\n",
    "    class_path = os.path.join(extract_path, class_name)\n",
    "    \n",
    "    # Check if it's a directory\n",
    "    if os.path.isdir(class_path):\n",
    "        # Get all image filenames in the folder\n",
    "        images = [f for f in os.listdir(class_path) if os.path.isfile(os.path.join(class_path, f))]\n",
    "        \n",
    "        if not images:\n",
    "            print(f\"No images found in {class_name}, skipping...\")\n",
    "            continue\n",
    "        \n",
    "        # Split the dataset into train, valid, and test\n",
    "        train_files, temp_files = train_test_split(images, test_size=(1 - train_ratio), random_state=42)\n",
    "        valid_files, test_files = train_test_split(temp_files, test_size=(test_ratio / (valid_ratio + test_ratio)), random_state=42)\n",
    "        \n",
    "        # Copy files to respective directories\n",
    "        for split, split_files in zip(subdirs, [train_files, valid_files, test_files]):\n",
    "            split_class_dir = os.path.join(output_dir, split, class_name)\n",
    "            os.makedirs(split_class_dir, exist_ok=True)\n",
    "            \n",
    "            for file_name in split_files:\n",
    "                src = os.path.join(class_path, file_name)\n",
    "                dest = os.path.join(split_class_dir, file_name)\n",
    "                shutil.copy(src, dest)\n",
    "\n",
    "print(\"Dataset has been successfully split into train, valid, and test sets!\")\n",
    "\n",
    "\n"
   ]
  },
  {
   "cell_type": "code",
   "execution_count": 4,
   "id": "9d8bb0ea",
   "metadata": {
    "execution": {
     "iopub.execute_input": "2024-12-06T05:52:59.379727Z",
     "iopub.status.busy": "2024-12-06T05:52:59.379231Z",
     "iopub.status.idle": "2024-12-06T05:53:11.437985Z",
     "shell.execute_reply": "2024-12-06T05:53:11.436980Z"
    },
    "papermill": {
     "duration": 12.063514,
     "end_time": "2024-12-06T05:53:11.439723",
     "exception": false,
     "start_time": "2024-12-06T05:52:59.376209",
     "status": "completed"
    },
    "tags": []
   },
   "outputs": [
    {
     "name": "stdout",
     "output_type": "stream",
     "text": [
      "Found 38791 images belonging to 39 classes.\n",
      "Found 11087 images belonging to 39 classes.\n",
      "Found 5570 images belonging to 39 classes.\n",
      "Class Indices: {'Apple___Apple_scab': 0, 'Apple___Black_rot': 1, 'Apple___Cedar_apple_rust': 2, 'Apple___healthy': 3, 'Background_without_leaves': 4, 'Blueberry___healthy': 5, 'Cherry___Powdery_mildew': 6, 'Cherry___healthy': 7, 'Corn___Cercospora_leaf_spot Gray_leaf_spot': 8, 'Corn___Common_rust': 9, 'Corn___Northern_Leaf_Blight': 10, 'Corn___healthy': 11, 'Grape___Black_rot': 12, 'Grape___Esca_(Black_Measles)': 13, 'Grape___Leaf_blight_(Isariopsis_Leaf_Spot)': 14, 'Grape___healthy': 15, 'Orange___Haunglongbing_(Citrus_greening)': 16, 'Peach___Bacterial_spot': 17, 'Peach___healthy': 18, 'Pepper,_bell___Bacterial_spot': 19, 'Pepper,_bell___healthy': 20, 'Potato___Early_blight': 21, 'Potato___Late_blight': 22, 'Potato___healthy': 23, 'Raspberry___healthy': 24, 'Soybean___healthy': 25, 'Squash___Powdery_mildew': 26, 'Strawberry___Leaf_scorch': 27, 'Strawberry___healthy': 28, 'Tomato___Bacterial_spot': 29, 'Tomato___Early_blight': 30, 'Tomato___Late_blight': 31, 'Tomato___Leaf_Mold': 32, 'Tomato___Septoria_leaf_spot': 33, 'Tomato___Spider_mites Two-spotted_spider_mite': 34, 'Tomato___Target_Spot': 35, 'Tomato___Tomato_Yellow_Leaf_Curl_Virus': 36, 'Tomato___Tomato_mosaic_virus': 37, 'Tomato___healthy': 38}\n"
     ]
    }
   ],
   "source": [
    "import os\n",
    "from tensorflow.keras.preprocessing.image import ImageDataGenerator\n",
    "\n",
    "# Paths to split dataset directories\n",
    "base_dir = \"/kaggle/working/\"\n",
    "train_dir = os.path.join(base_dir, 'train')\n",
    "valid_dir = os.path.join(base_dir, 'valid')\n",
    "test_dir = os.path.join(base_dir, 'test')\n",
    "\n",
    "# Image dimensions and batch size\n",
    "img_height = 224\n",
    "img_width = 224\n",
    "batch_size = 32\n",
    "\n",
    "# Data Generators for Training, Validation, and Test Sets (Only Rescaling)\n",
    "data_gen = ImageDataGenerator(rescale=1.0/255.0)\n",
    "\n",
    "# Loading Data with Data Generators\n",
    "train_generator = data_gen.flow_from_directory(\n",
    "    train_dir,\n",
    "    target_size=(img_height, img_width),\n",
    "    batch_size=batch_size,\n",
    "    class_mode='categorical' \n",
    ")\n",
    "\n",
    "valid_generator = data_gen.flow_from_directory(\n",
    "    valid_dir,\n",
    "    target_size=(img_height, img_width),\n",
    "    batch_size=batch_size,\n",
    "    class_mode='categorical'\n",
    ")\n",
    "\n",
    "test_generator = data_gen.flow_from_directory(\n",
    "    test_dir,\n",
    "    target_size=(img_height, img_width),\n",
    "    batch_size=batch_size,\n",
    "    class_mode='categorical',\n",
    "    shuffle=False  \n",
    "    \n",
    ")\n",
    "\n",
    "# Display Class Indices\n",
    "class_indices = train_generator.class_indices\n",
    "print(\"Class Indices:\", class_indices)\n"
   ]
  },
  {
   "cell_type": "code",
   "execution_count": 5,
   "id": "013b28da",
   "metadata": {
    "execution": {
     "iopub.execute_input": "2024-12-06T05:53:11.446855Z",
     "iopub.status.busy": "2024-12-06T05:53:11.445985Z",
     "iopub.status.idle": "2024-12-06T05:53:11.451829Z",
     "shell.execute_reply": "2024-12-06T05:53:11.451238Z"
    },
    "papermill": {
     "duration": 0.010759,
     "end_time": "2024-12-06T05:53:11.453281",
     "exception": false,
     "start_time": "2024-12-06T05:53:11.442522",
     "status": "completed"
    },
    "tags": []
   },
   "outputs": [],
   "source": [
    "import tensorflow as tf\n",
    "from tensorflow.keras.models import Sequential\n",
    "from tensorflow.keras.layers import (\n",
    "    Conv2D, MaxPooling2D, Dense, Dropout, BatchNormalization,\n",
    "    GlobalAveragePooling2D)\n",
    "from tensorflow.keras.optimizers import Adam\n",
    "from sklearn.metrics import classification_report, roc_auc_score\n",
    "import numpy as np"
   ]
  },
  {
   "cell_type": "code",
   "execution_count": 6,
   "id": "bfae6674",
   "metadata": {
    "execution": {
     "iopub.execute_input": "2024-12-06T05:53:11.459804Z",
     "iopub.status.busy": "2024-12-06T05:53:11.458879Z",
     "iopub.status.idle": "2024-12-06T05:53:12.730623Z",
     "shell.execute_reply": "2024-12-06T05:53:12.729938Z"
    },
    "papermill": {
     "duration": 1.276864,
     "end_time": "2024-12-06T05:53:12.732603",
     "exception": false,
     "start_time": "2024-12-06T05:53:11.455739",
     "status": "completed"
    },
    "tags": []
   },
   "outputs": [],
   "source": [
    "model = Sequential([\n",
    "    # First block\n",
    "    Conv2D(32, (3, 3), activation='relu', input_shape=(224, 224, 3), padding='same'),\n",
    "    BatchNormalization(),\n",
    "    Conv2D(32, (3, 3), activation='relu', padding='same'),\n",
    "    BatchNormalization(),\n",
    "    MaxPooling2D((2, 2)),\n",
    "    Dropout(0.25),\n",
    "\n",
    "    # Second block\n",
    "    Conv2D(64, (3, 3), activation='relu', padding='same'),\n",
    "    BatchNormalization(),\n",
    "    Conv2D(64, (3, 3), activation='relu', padding='same'),\n",
    "    BatchNormalization(),\n",
    "    MaxPooling2D((2, 2)),\n",
    "    Dropout(0.25),\n",
    "\n",
    "    # Third block\n",
    "    Conv2D(128, (3, 3), activation='relu', padding='same'),\n",
    "    BatchNormalization(),\n",
    "    Conv2D(128, (3, 3), activation='relu', padding='same'),\n",
    "    BatchNormalization(),\n",
    "    MaxPooling2D((2, 2)),\n",
    "    Dropout(0.25),\n",
    "\n",
    "    # Fourth block\n",
    "    Conv2D(256, (3, 3), activation='relu', padding='same'),\n",
    "    BatchNormalization(),\n",
    "    Conv2D(256, (3, 3), activation='relu', padding='same'),\n",
    "    BatchNormalization(),\n",
    "    MaxPooling2D((2, 2)),\n",
    "    Dropout(0.25),\n",
    "\n",
    "    # Global Average Pooling\n",
    "    GlobalAveragePooling2D(),\n",
    "\n",
    "    # Fully connected layers\n",
    "    Dense(256, activation='relu'),\n",
    "    BatchNormalization(),\n",
    "    Dropout(0.25),\n",
    "    Dense(len(train_generator.class_indices), activation='softmax')  # Number of classes\n",
    "])"
   ]
  },
  {
   "cell_type": "code",
   "execution_count": 7,
   "id": "65ce87d1",
   "metadata": {
    "execution": {
     "iopub.execute_input": "2024-12-06T05:53:12.739005Z",
     "iopub.status.busy": "2024-12-06T05:53:12.738747Z",
     "iopub.status.idle": "2024-12-06T05:53:12.752112Z",
     "shell.execute_reply": "2024-12-06T05:53:12.751310Z"
    },
    "papermill": {
     "duration": 0.018372,
     "end_time": "2024-12-06T05:53:12.753774",
     "exception": false,
     "start_time": "2024-12-06T05:53:12.735402",
     "status": "completed"
    },
    "tags": []
   },
   "outputs": [],
   "source": [
    "model.compile(\n",
    "    optimizer=Adam(learning_rate=0.001),\n",
    "    loss='categorical_crossentropy',\n",
    "    metrics=['accuracy']\n",
    ")"
   ]
  },
  {
   "cell_type": "code",
   "execution_count": 8,
   "id": "6d402c50",
   "metadata": {
    "execution": {
     "iopub.execute_input": "2024-12-06T05:53:12.759662Z",
     "iopub.status.busy": "2024-12-06T05:53:12.759396Z",
     "iopub.status.idle": "2024-12-06T06:35:55.263020Z",
     "shell.execute_reply": "2024-12-06T06:35:55.262114Z"
    },
    "papermill": {
     "duration": 2563.410483,
     "end_time": "2024-12-06T06:35:56.166765",
     "exception": false,
     "start_time": "2024-12-06T05:53:12.756282",
     "status": "completed"
    },
    "tags": []
   },
   "outputs": [
    {
     "name": "stdout",
     "output_type": "stream",
     "text": [
      "Epoch 1/15\n"
     ]
    },
    {
     "name": "stderr",
     "output_type": "stream",
     "text": [
      "2024-12-06 05:53:14.999913: E tensorflow/core/grappler/optimizers/meta_optimizer.cc:954] layout failed: INVALID_ARGUMENT: Size of values 0 does not match size of permutation 4 @ fanin shape insequential/dropout/dropout/SelectV2-2-TransposeNHWCToNCHW-LayoutOptimizer\n"
     ]
    },
    {
     "name": "stdout",
     "output_type": "stream",
     "text": [
      "1213/1213 [==============================] - 179s 140ms/step - loss: 1.1772 - accuracy: 0.6564 - val_loss: 1.3104 - val_accuracy: 0.6487\n",
      "Epoch 2/15\n",
      "1213/1213 [==============================] - 170s 140ms/step - loss: 0.6121 - accuracy: 0.8090 - val_loss: 2.3745 - val_accuracy: 0.4397\n",
      "Epoch 3/15\n",
      "1213/1213 [==============================] - 169s 139ms/step - loss: 0.3822 - accuracy: 0.8788 - val_loss: 0.9988 - val_accuracy: 0.7576\n",
      "Epoch 4/15\n",
      "1213/1213 [==============================] - 170s 140ms/step - loss: 0.2659 - accuracy: 0.9142 - val_loss: 0.4299 - val_accuracy: 0.8687\n",
      "Epoch 5/15\n",
      "1213/1213 [==============================] - 169s 139ms/step - loss: 0.2019 - accuracy: 0.9343 - val_loss: 0.6380 - val_accuracy: 0.8092\n",
      "Epoch 6/15\n",
      "1213/1213 [==============================] - 171s 141ms/step - loss: 0.1746 - accuracy: 0.9428 - val_loss: 0.4444 - val_accuracy: 0.8626\n",
      "Epoch 7/15\n",
      "1213/1213 [==============================] - 169s 140ms/step - loss: 0.1377 - accuracy: 0.9556 - val_loss: 0.2416 - val_accuracy: 0.9191\n",
      "Epoch 8/15\n",
      "1213/1213 [==============================] - 169s 139ms/step - loss: 0.1217 - accuracy: 0.9599 - val_loss: 0.7407 - val_accuracy: 0.8077\n",
      "Epoch 9/15\n",
      "1213/1213 [==============================] - 170s 140ms/step - loss: 0.1126 - accuracy: 0.9619 - val_loss: 0.1275 - val_accuracy: 0.9605\n",
      "Epoch 10/15\n",
      "1213/1213 [==============================] - 170s 140ms/step - loss: 0.0978 - accuracy: 0.9675 - val_loss: 0.2241 - val_accuracy: 0.9269\n",
      "Epoch 11/15\n",
      "1213/1213 [==============================] - 171s 141ms/step - loss: 0.0921 - accuracy: 0.9703 - val_loss: 1.1298 - val_accuracy: 0.7603\n",
      "Epoch 12/15\n",
      "1213/1213 [==============================] - 170s 140ms/step - loss: 0.0756 - accuracy: 0.9746 - val_loss: 0.3999 - val_accuracy: 0.8865\n",
      "Epoch 13/15\n",
      "1213/1213 [==============================] - 172s 142ms/step - loss: 0.0768 - accuracy: 0.9741 - val_loss: 2.4016 - val_accuracy: 0.6860\n",
      "Epoch 14/15\n",
      "1213/1213 [==============================] - 171s 141ms/step - loss: 0.0700 - accuracy: 0.9759 - val_loss: 0.2648 - val_accuracy: 0.9184\n",
      "Epoch 15/15\n",
      "1213/1213 [==============================] - 172s 142ms/step - loss: 0.0589 - accuracy: 0.9800 - val_loss: 0.7304 - val_accuracy: 0.8681\n"
     ]
    }
   ],
   "source": [
    "history = model.fit(\n",
    "    train_generator,\n",
    "    validation_data=valid_generator,\n",
    "    epochs=15,  \n",
    "    verbose=1\n",
    ")"
   ]
  },
  {
   "cell_type": "code",
   "execution_count": 9,
   "id": "1a98a889",
   "metadata": {
    "execution": {
     "iopub.execute_input": "2024-12-06T06:35:57.934489Z",
     "iopub.status.busy": "2024-12-06T06:35:57.933515Z",
     "iopub.status.idle": "2024-12-06T06:36:06.266868Z",
     "shell.execute_reply": "2024-12-06T06:36:06.265907Z"
    },
    "papermill": {
     "duration": 9.260235,
     "end_time": "2024-12-06T06:36:06.268380",
     "exception": false,
     "start_time": "2024-12-06T06:35:57.008145",
     "status": "completed"
    },
    "tags": []
   },
   "outputs": [
    {
     "name": "stdout",
     "output_type": "stream",
     "text": [
      "175/175 [==============================] - 8s 47ms/step - loss: 0.7297 - accuracy: 0.8664\n",
      "Test Accuracy: 0.8664\n"
     ]
    }
   ],
   "source": [
    "test_loss, test_accuracy = model.evaluate(test_generator, verbose=1)\n",
    "print(f\"Test Accuracy: {test_accuracy:.4f}\")"
   ]
  },
  {
   "cell_type": "code",
   "execution_count": 10,
   "id": "95f7f139",
   "metadata": {
    "execution": {
     "iopub.execute_input": "2024-12-06T06:36:08.131148Z",
     "iopub.status.busy": "2024-12-06T06:36:08.130294Z",
     "iopub.status.idle": "2024-12-06T06:36:17.514270Z",
     "shell.execute_reply": "2024-12-06T06:36:17.513331Z"
    },
    "papermill": {
     "duration": 10.327741,
     "end_time": "2024-12-06T06:36:17.516874",
     "exception": false,
     "start_time": "2024-12-06T06:36:07.189133",
     "status": "completed"
    },
    "tags": []
   },
   "outputs": [
    {
     "name": "stdout",
     "output_type": "stream",
     "text": [
      "175/175 [==============================] - 9s 51ms/step\n",
      "\n",
      "Classification Report:\n",
      "                                               precision    recall  f1-score   support\n",
      "\n",
      "                           Apple___Apple_scab       1.00      0.97      0.98        64\n",
      "                            Apple___Black_rot       0.98      0.65      0.78        63\n",
      "                     Apple___Cedar_apple_rust       0.70      1.00      0.82        28\n",
      "                              Apple___healthy       0.88      0.92      0.90       165\n",
      "                    Background_without_leaves       0.74      0.99      0.84       115\n",
      "                          Blueberry___healthy       1.00      0.52      0.69       151\n",
      "                      Cherry___Powdery_mildew       0.53      0.95      0.68       106\n",
      "                             Cherry___healthy       0.99      0.79      0.88        86\n",
      "   Corn___Cercospora_leaf_spot Gray_leaf_spot       0.69      0.92      0.79        52\n",
      "                           Corn___Common_rust       0.98      1.00      0.99       120\n",
      "                  Corn___Northern_Leaf_Blight       0.98      0.84      0.90        99\n",
      "                               Corn___healthy       0.69      1.00      0.82       117\n",
      "                            Grape___Black_rot       0.97      0.99      0.98       119\n",
      "                 Grape___Esca_(Black_Measles)       0.94      0.94      0.94       139\n",
      "   Grape___Leaf_blight_(Isariopsis_Leaf_Spot)       0.65      1.00      0.79       108\n",
      "                              Grape___healthy       1.00      0.35      0.52        43\n",
      "     Orange___Haunglongbing_(Citrus_greening)       0.91      1.00      0.95       551\n",
      "                       Peach___Bacterial_spot       0.98      0.88      0.92       230\n",
      "                              Peach___healthy       1.00      0.11      0.20        37\n",
      "                Pepper,_bell___Bacterial_spot       0.97      0.86      0.91       100\n",
      "                       Pepper,_bell___healthy       0.92      0.88      0.90       148\n",
      "                        Potato___Early_blight       1.00      0.96      0.98       101\n",
      "                         Potato___Late_blight       0.96      0.48      0.64       101\n",
      "                             Potato___healthy       0.60      0.75      0.67        16\n",
      "                          Raspberry___healthy       0.83      0.50      0.62        38\n",
      "                            Soybean___healthy       0.92      0.97      0.95       510\n",
      "                      Squash___Powdery_mildew       0.95      1.00      0.97       184\n",
      "                     Strawberry___Leaf_scorch       1.00      0.59      0.75       111\n",
      "                         Strawberry___healthy       0.77      0.65      0.71        46\n",
      "                      Tomato___Bacterial_spot       0.81      1.00      0.89       213\n",
      "                        Tomato___Early_blight       0.95      0.56      0.71       101\n",
      "                         Tomato___Late_blight       0.66      0.94      0.78       191\n",
      "                           Tomato___Leaf_Mold       0.77      0.82      0.79        96\n",
      "                  Tomato___Septoria_leaf_spot       0.96      0.60      0.74       178\n",
      "Tomato___Spider_mites Two-spotted_spider_mite       0.72      0.85      0.78       168\n",
      "                         Tomato___Target_Spot       1.00      0.23      0.38       141\n",
      "       Tomato___Tomato_Yellow_Leaf_Curl_Virus       0.91      0.99      0.95       536\n",
      "                 Tomato___Tomato_mosaic_virus       0.92      0.63      0.75        38\n",
      "                             Tomato___healthy       0.99      0.97      0.98       160\n",
      "\n",
      "                                     accuracy                           0.87      5570\n",
      "                                    macro avg       0.88      0.80      0.80      5570\n",
      "                                 weighted avg       0.89      0.87      0.86      5570\n",
      "\n"
     ]
    }
   ],
   "source": [
    "# Predictions and true labels\n",
    "y_pred_probs = model.predict(test_generator, verbose=1)\n",
    "y_pred_classes = np.argmax(y_pred_probs, axis=1)\n",
    "y_true = test_generator.classes\n",
    "\n",
    "# Metrics: Classification Report\n",
    "print(\"\\nClassification Report:\")\n",
    "class_labels = list(test_generator.class_indices.keys())\n",
    "print(classification_report(y_true, y_pred_classes, target_names=class_labels))"
   ]
  }
 ],
 "metadata": {
  "kaggle": {
   "accelerator": "gpu",
   "dataSources": [
    {
     "datasetId": 6121008,
     "sourceId": 9952857,
     "sourceType": "datasetVersion"
    }
   ],
   "dockerImageVersionId": 30587,
   "isGpuEnabled": true,
   "isInternetEnabled": true,
   "language": "python",
   "sourceType": "notebook"
  },
  "kernelspec": {
   "display_name": "Python 3",
   "language": "python",
   "name": "python3"
  },
  "language_info": {
   "codemirror_mode": {
    "name": "ipython",
    "version": 3
   },
   "file_extension": ".py",
   "mimetype": "text/x-python",
   "name": "python",
   "nbconvert_exporter": "python",
   "pygments_lexer": "ipython3",
   "version": "3.10.12"
  },
  "papermill": {
   "default_parameters": {},
   "duration": 2802.111095,
   "end_time": "2024-12-06T06:36:21.629481",
   "environment_variables": {},
   "exception": null,
   "input_path": "__notebook__.ipynb",
   "output_path": "__notebook__.ipynb",
   "parameters": {},
   "start_time": "2024-12-06T05:49:39.518386",
   "version": "2.4.0"
  }
 },
 "nbformat": 4,
 "nbformat_minor": 5
}
