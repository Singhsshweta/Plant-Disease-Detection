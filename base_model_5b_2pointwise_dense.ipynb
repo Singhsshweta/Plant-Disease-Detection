{
 "cells": [
  {
   "cell_type": "code",
   "execution_count": 1,
   "id": "9a11d355",
   "metadata": {
    "execution": {
     "iopub.execute_input": "2025-01-06T19:37:36.930799Z",
     "iopub.status.busy": "2025-01-06T19:37:36.930528Z",
     "iopub.status.idle": "2025-01-06T19:37:38.040426Z",
     "shell.execute_reply": "2025-01-06T19:37:38.039524Z"
    },
    "papermill": {
     "duration": 1.115436,
     "end_time": "2025-01-06T19:37:38.042486",
     "exception": false,
     "start_time": "2025-01-06T19:37:36.927050",
     "status": "completed"
    },
    "tags": []
   },
   "outputs": [
    {
     "name": "stderr",
     "output_type": "stream",
     "text": [
      "/opt/conda/lib/python3.10/site-packages/scipy/__init__.py:146: UserWarning: A NumPy version >=1.16.5 and <1.23.0 is required for this version of SciPy (detected version 1.24.3\n",
      "  warnings.warn(f\"A NumPy version >={np_minversion} and <{np_maxversion}\"\n"
     ]
    }
   ],
   "source": [
    "import os\n",
    "import zipfile\n",
    "import shutil\n",
    "from sklearn.model_selection import train_test_split"
   ]
  },
  {
   "cell_type": "code",
   "execution_count": 2,
   "id": "c487675e",
   "metadata": {
    "execution": {
     "iopub.execute_input": "2025-01-06T19:37:38.048580Z",
     "iopub.status.busy": "2025-01-06T19:37:38.048319Z",
     "iopub.status.idle": "2025-01-06T19:37:38.051714Z",
     "shell.execute_reply": "2025-01-06T19:37:38.051079Z"
    },
    "papermill": {
     "duration": 0.007962,
     "end_time": "2025-01-06T19:37:38.053208",
     "exception": false,
     "start_time": "2025-01-06T19:37:38.045246",
     "status": "completed"
    },
    "tags": []
   },
   "outputs": [],
   "source": [
    "extract_path = \"/kaggle/input/plant-leaf/Plant_leave_diseases_dataset_without_augmentation\"\n",
    "output_dir = '/kaggle/working/'"
   ]
  },
  {
   "cell_type": "code",
   "execution_count": 3,
   "id": "e4eeb581",
   "metadata": {
    "execution": {
     "iopub.execute_input": "2025-01-06T19:37:38.058726Z",
     "iopub.status.busy": "2025-01-06T19:37:38.058312Z",
     "iopub.status.idle": "2025-01-06T19:42:36.212802Z",
     "shell.execute_reply": "2025-01-06T19:42:36.211815Z"
    },
    "papermill": {
     "duration": 298.161471,
     "end_time": "2025-01-06T19:42:36.216964",
     "exception": false,
     "start_time": "2025-01-06T19:37:38.055493",
     "status": "completed"
    },
    "tags": []
   },
   "outputs": [
    {
     "name": "stdout",
     "output_type": "stream",
     "text": [
      "Dataset has been successfully split into train, valid, and test sets!\n"
     ]
    }
   ],
   "source": [
    "# Create output subdirectories for train, valid, and test\n",
    "subdirs = ['train', 'valid', 'test']\n",
    "for subdir in subdirs:\n",
    "    os.makedirs(os.path.join(output_dir, subdir), exist_ok=True)\n",
    "\n",
    "# Split ratios\n",
    "train_ratio = 0.7\n",
    "valid_ratio = 0.2\n",
    "test_ratio = 0.1\n",
    "\n",
    "# Process each class folder\n",
    "for class_name in os.listdir(extract_path):\n",
    "    class_path = os.path.join(extract_path, class_name)\n",
    "    \n",
    "    # Check if it's a directory\n",
    "    if os.path.isdir(class_path):\n",
    "        # Get all image filenames in the folder\n",
    "        images = [f for f in os.listdir(class_path) if os.path.isfile(os.path.join(class_path, f))]\n",
    "        \n",
    "        if not images:\n",
    "            print(f\"No images found in {class_name}, skipping...\")\n",
    "            continue\n",
    "        \n",
    "        # Split the dataset into train, valid, and test\n",
    "        train_files, temp_files = train_test_split(images, test_size=(1 - train_ratio), random_state=42)\n",
    "        valid_files, test_files = train_test_split(temp_files, test_size=(test_ratio / (valid_ratio + test_ratio)), random_state=42)\n",
    "        \n",
    "        # Copy files to respective directories\n",
    "        for split, split_files in zip(subdirs, [train_files, valid_files, test_files]):\n",
    "            split_class_dir = os.path.join(output_dir, split, class_name)\n",
    "            os.makedirs(split_class_dir, exist_ok=True)\n",
    "            \n",
    "            for file_name in split_files:\n",
    "                src = os.path.join(class_path, file_name)\n",
    "                dest = os.path.join(split_class_dir, file_name)\n",
    "                shutil.copy(src, dest)\n",
    "\n",
    "print(\"Dataset has been successfully split into train, valid, and test sets!\")\n",
    "\n",
    "\n"
   ]
  },
  {
   "cell_type": "code",
   "execution_count": 4,
   "id": "d03e7e23",
   "metadata": {
    "execution": {
     "iopub.execute_input": "2025-01-06T19:42:36.223171Z",
     "iopub.status.busy": "2025-01-06T19:42:36.222642Z",
     "iopub.status.idle": "2025-01-06T19:42:50.187352Z",
     "shell.execute_reply": "2025-01-06T19:42:50.186428Z"
    },
    "papermill": {
     "duration": 13.970245,
     "end_time": "2025-01-06T19:42:50.189583",
     "exception": false,
     "start_time": "2025-01-06T19:42:36.219338",
     "status": "completed"
    },
    "tags": []
   },
   "outputs": [
    {
     "name": "stdout",
     "output_type": "stream",
     "text": [
      "Found 38791 images belonging to 39 classes.\n",
      "Found 11087 images belonging to 39 classes.\n",
      "Found 5570 images belonging to 39 classes.\n",
      "Class Indices: {'Apple___Apple_scab': 0, 'Apple___Black_rot': 1, 'Apple___Cedar_apple_rust': 2, 'Apple___healthy': 3, 'Background_without_leaves': 4, 'Blueberry___healthy': 5, 'Cherry___Powdery_mildew': 6, 'Cherry___healthy': 7, 'Corn___Cercospora_leaf_spot Gray_leaf_spot': 8, 'Corn___Common_rust': 9, 'Corn___Northern_Leaf_Blight': 10, 'Corn___healthy': 11, 'Grape___Black_rot': 12, 'Grape___Esca_(Black_Measles)': 13, 'Grape___Leaf_blight_(Isariopsis_Leaf_Spot)': 14, 'Grape___healthy': 15, 'Orange___Haunglongbing_(Citrus_greening)': 16, 'Peach___Bacterial_spot': 17, 'Peach___healthy': 18, 'Pepper,_bell___Bacterial_spot': 19, 'Pepper,_bell___healthy': 20, 'Potato___Early_blight': 21, 'Potato___Late_blight': 22, 'Potato___healthy': 23, 'Raspberry___healthy': 24, 'Soybean___healthy': 25, 'Squash___Powdery_mildew': 26, 'Strawberry___Leaf_scorch': 27, 'Strawberry___healthy': 28, 'Tomato___Bacterial_spot': 29, 'Tomato___Early_blight': 30, 'Tomato___Late_blight': 31, 'Tomato___Leaf_Mold': 32, 'Tomato___Septoria_leaf_spot': 33, 'Tomato___Spider_mites Two-spotted_spider_mite': 34, 'Tomato___Target_Spot': 35, 'Tomato___Tomato_Yellow_Leaf_Curl_Virus': 36, 'Tomato___Tomato_mosaic_virus': 37, 'Tomato___healthy': 38}\n"
     ]
    }
   ],
   "source": [
    "import os\n",
    "from tensorflow.keras.preprocessing.image import ImageDataGenerator\n",
    "\n",
    "# Paths to split dataset directories\n",
    "base_dir = \"/kaggle/working/\"\n",
    "train_dir = os.path.join(base_dir, 'train')\n",
    "valid_dir = os.path.join(base_dir, 'valid')\n",
    "test_dir = os.path.join(base_dir, 'test')\n",
    "\n",
    "# Image dimensions and batch size\n",
    "img_height = 224\n",
    "img_width = 224\n",
    "batch_size = 32\n",
    "\n",
    "# Data Generators for Training, Validation, and Test Sets (Only Rescaling)\n",
    "data_gen = ImageDataGenerator(rescale=1.0/255.0)\n",
    "\n",
    "# Loading Data with Data Generators\n",
    "train_generator = data_gen.flow_from_directory(\n",
    "    train_dir,\n",
    "    target_size=(img_height, img_width),\n",
    "    batch_size=batch_size,\n",
    "    class_mode='categorical' \n",
    ")\n",
    "\n",
    "valid_generator = data_gen.flow_from_directory(\n",
    "    valid_dir,\n",
    "    target_size=(img_height, img_width),\n",
    "    batch_size=batch_size,\n",
    "    class_mode='categorical'\n",
    ")\n",
    "\n",
    "test_generator = data_gen.flow_from_directory(\n",
    "    test_dir,\n",
    "    target_size=(img_height, img_width),\n",
    "    batch_size=batch_size,\n",
    "    class_mode='categorical',\n",
    "    shuffle=False  \n",
    "    \n",
    ")\n",
    "\n",
    "# Display Class Indices\n",
    "class_indices = train_generator.class_indices\n",
    "print(\"Class Indices:\", class_indices)\n"
   ]
  },
  {
   "cell_type": "code",
   "execution_count": 5,
   "id": "6dbacaf6",
   "metadata": {
    "execution": {
     "iopub.execute_input": "2025-01-06T19:42:50.196682Z",
     "iopub.status.busy": "2025-01-06T19:42:50.196229Z",
     "iopub.status.idle": "2025-01-06T19:42:50.201798Z",
     "shell.execute_reply": "2025-01-06T19:42:50.201201Z"
    },
    "papermill": {
     "duration": 0.010374,
     "end_time": "2025-01-06T19:42:50.203244",
     "exception": false,
     "start_time": "2025-01-06T19:42:50.192870",
     "status": "completed"
    },
    "tags": []
   },
   "outputs": [],
   "source": [
    "import tensorflow as tf\n",
    "from tensorflow.keras.models import Sequential\n",
    "from tensorflow.keras.layers import (\n",
    "    Conv2D, MaxPooling2D, Dense, Dropout, BatchNormalization,\n",
    "    GlobalAveragePooling2D)\n",
    "from tensorflow.keras.optimizers import Adam\n",
    "from sklearn.metrics import classification_report, roc_auc_score\n",
    "import numpy as np"
   ]
  },
  {
   "cell_type": "code",
   "execution_count": 6,
   "id": "d3c23033",
   "metadata": {
    "execution": {
     "iopub.execute_input": "2025-01-06T19:42:50.209132Z",
     "iopub.status.busy": "2025-01-06T19:42:50.208901Z",
     "iopub.status.idle": "2025-01-06T19:42:51.964747Z",
     "shell.execute_reply": "2025-01-06T19:42:51.963801Z"
    },
    "papermill": {
     "duration": 1.77731,
     "end_time": "2025-01-06T19:42:51.983051",
     "exception": false,
     "start_time": "2025-01-06T19:42:50.205741",
     "status": "completed"
    },
    "tags": []
   },
   "outputs": [
    {
     "name": "stdout",
     "output_type": "stream",
     "text": [
      "Model: \"sequential\"\n",
      "_________________________________________________________________\n",
      " Layer (type)                Output Shape              Param #   \n",
      "=================================================================\n",
      " conv2d (Conv2D)             (None, 224, 224, 32)      896       \n",
      "                                                                 \n",
      " batch_normalization (Batch  (None, 224, 224, 32)      128       \n",
      " Normalization)                                                  \n",
      "                                                                 \n",
      " conv2d_1 (Conv2D)           (None, 224, 224, 32)      9248      \n",
      "                                                                 \n",
      " batch_normalization_1 (Bat  (None, 224, 224, 32)      128       \n",
      " chNormalization)                                                \n",
      "                                                                 \n",
      " max_pooling2d (MaxPooling2  (None, 112, 112, 32)      0         \n",
      " D)                                                              \n",
      "                                                                 \n",
      " conv2d_2 (Conv2D)           (None, 112, 112, 64)      18496     \n",
      "                                                                 \n",
      " batch_normalization_2 (Bat  (None, 112, 112, 64)      256       \n",
      " chNormalization)                                                \n",
      "                                                                 \n",
      " conv2d_3 (Conv2D)           (None, 112, 112, 64)      36928     \n",
      "                                                                 \n",
      " batch_normalization_3 (Bat  (None, 112, 112, 64)      256       \n",
      " chNormalization)                                                \n",
      "                                                                 \n",
      " max_pooling2d_1 (MaxPoolin  (None, 56, 56, 64)        0         \n",
      " g2D)                                                            \n",
      "                                                                 \n",
      " conv2d_4 (Conv2D)           (None, 56, 56, 128)       73856     \n",
      "                                                                 \n",
      " batch_normalization_4 (Bat  (None, 56, 56, 128)       512       \n",
      " chNormalization)                                                \n",
      "                                                                 \n",
      " conv2d_5 (Conv2D)           (None, 56, 56, 128)       147584    \n",
      "                                                                 \n",
      " batch_normalization_5 (Bat  (None, 56, 56, 128)       512       \n",
      " chNormalization)                                                \n",
      "                                                                 \n",
      " max_pooling2d_2 (MaxPoolin  (None, 28, 28, 128)       0         \n",
      " g2D)                                                            \n",
      "                                                                 \n",
      " conv2d_6 (Conv2D)           (None, 28, 28, 256)       295168    \n",
      "                                                                 \n",
      " batch_normalization_6 (Bat  (None, 28, 28, 256)       1024      \n",
      " chNormalization)                                                \n",
      "                                                                 \n",
      " conv2d_7 (Conv2D)           (None, 28, 28, 256)       65792     \n",
      "                                                                 \n",
      " batch_normalization_7 (Bat  (None, 28, 28, 256)       1024      \n",
      " chNormalization)                                                \n",
      "                                                                 \n",
      " max_pooling2d_3 (MaxPoolin  (None, 14, 14, 256)       0         \n",
      " g2D)                                                            \n",
      "                                                                 \n",
      " conv2d_8 (Conv2D)           (None, 14, 14, 512)       1180160   \n",
      "                                                                 \n",
      " batch_normalization_8 (Bat  (None, 14, 14, 512)       2048      \n",
      " chNormalization)                                                \n",
      "                                                                 \n",
      " conv2d_9 (Conv2D)           (None, 14, 14, 512)       262656    \n",
      "                                                                 \n",
      " batch_normalization_9 (Bat  (None, 14, 14, 512)       2048      \n",
      " chNormalization)                                                \n",
      "                                                                 \n",
      " max_pooling2d_4 (MaxPoolin  (None, 7, 7, 512)         0         \n",
      " g2D)                                                            \n",
      "                                                                 \n",
      " global_average_pooling2d (  (None, 512)               0         \n",
      " GlobalAveragePooling2D)                                         \n",
      "                                                                 \n",
      " dense (Dense)               (None, 256)               131328    \n",
      "                                                                 \n",
      " batch_normalization_10 (Ba  (None, 256)               1024      \n",
      " tchNormalization)                                               \n",
      "                                                                 \n",
      " dropout (Dropout)           (None, 256)               0         \n",
      "                                                                 \n",
      " dense_1 (Dense)             (None, 39)                10023     \n",
      "                                                                 \n",
      "=================================================================\n",
      "Total params: 2241095 (8.55 MB)\n",
      "Trainable params: 2236615 (8.53 MB)\n",
      "Non-trainable params: 4480 (17.50 KB)\n",
      "_________________________________________________________________\n"
     ]
    }
   ],
   "source": [
    "model = Sequential([\n",
    "    # First block\n",
    "    Conv2D(32, (3, 3), activation='relu', input_shape=(224, 224, 3), padding='same'),\n",
    "    BatchNormalization(),\n",
    "    Conv2D(32, (3, 3), activation='relu', padding='same'),\n",
    "    BatchNormalization(),\n",
    "    MaxPooling2D((2, 2)),\n",
    "\n",
    "    # Second block\n",
    "    Conv2D(64, (3, 3), activation='relu', padding='same'),\n",
    "    BatchNormalization(),\n",
    "    Conv2D(64, (3, 3), activation='relu', padding='same'),\n",
    "    BatchNormalization(),\n",
    "    MaxPooling2D((2, 2)),\n",
    "\n",
    "    # Third block\n",
    "    Conv2D(128, (3, 3), activation='relu', padding='same'),\n",
    "    BatchNormalization(),\n",
    "    Conv2D(128, (3, 3), activation='relu', padding='same'),\n",
    "    BatchNormalization(),\n",
    "    MaxPooling2D((2, 2)),\n",
    "\n",
    "    # Fourth block\n",
    "    Conv2D(256, (3, 3), activation='relu', padding='same'),\n",
    "    BatchNormalization(),\n",
    "    Conv2D(256, (1,1), activation='relu', padding='same'),\n",
    "    BatchNormalization(),\n",
    "    MaxPooling2D((2, 2)),\n",
    "\n",
    "    # Fifth block\n",
    "    Conv2D(512, (3, 3), activation='relu', padding='same'),\n",
    "    BatchNormalization(),\n",
    "    Conv2D(512, (1,1), activation='relu', padding='same'),\n",
    "    BatchNormalization(),\n",
    "    MaxPooling2D((2, 2)),\n",
    "\n",
    "    # Global Average Pooling\n",
    "    GlobalAveragePooling2D(),\n",
    "\n",
    "    # Fully connected layers\n",
    "    Dense(256, activation='relu'),\n",
    "    BatchNormalization(),\n",
    "    Dropout(0.05),\n",
    "    Dense(len(train_generator.class_indices), activation='softmax')  # Number of classes\n",
    "])\n",
    "model.summary()"
   ]
  },
  {
   "cell_type": "code",
   "execution_count": 7,
   "id": "64e8fa3b",
   "metadata": {
    "execution": {
     "iopub.execute_input": "2025-01-06T19:42:51.996313Z",
     "iopub.status.busy": "2025-01-06T19:42:51.996084Z",
     "iopub.status.idle": "2025-01-06T19:42:52.009678Z",
     "shell.execute_reply": "2025-01-06T19:42:52.009115Z"
    },
    "papermill": {
     "duration": 0.021973,
     "end_time": "2025-01-06T19:42:52.011309",
     "exception": false,
     "start_time": "2025-01-06T19:42:51.989336",
     "status": "completed"
    },
    "tags": []
   },
   "outputs": [],
   "source": [
    "model.compile(\n",
    "    optimizer=Adam(learning_rate=0.001),\n",
    "    loss='categorical_crossentropy',\n",
    "    metrics=['accuracy']\n",
    ")"
   ]
  },
  {
   "cell_type": "code",
   "execution_count": 8,
   "id": "affb8511",
   "metadata": {
    "execution": {
     "iopub.execute_input": "2025-01-06T19:42:52.025108Z",
     "iopub.status.busy": "2025-01-06T19:42:52.024655Z",
     "iopub.status.idle": "2025-01-06T20:42:38.352044Z",
     "shell.execute_reply": "2025-01-06T20:42:38.351196Z"
    },
    "papermill": {
     "duration": 3587.208725,
     "end_time": "2025-01-06T20:42:39.226621",
     "exception": false,
     "start_time": "2025-01-06T19:42:52.017896",
     "status": "completed"
    },
    "tags": []
   },
   "outputs": [
    {
     "name": "stdout",
     "output_type": "stream",
     "text": [
      "Epoch 1/15\n",
      "1213/1213 [==============================] - 247s 192ms/step - loss: 0.8748 - accuracy: 0.7424 - val_loss: 1.8261 - val_accuracy: 0.5791\n",
      "Epoch 2/15\n",
      "1213/1213 [==============================] - 240s 198ms/step - loss: 0.3405 - accuracy: 0.8911 - val_loss: 3.3766 - val_accuracy: 0.3487\n",
      "Epoch 3/15\n",
      "1213/1213 [==============================] - 239s 197ms/step - loss: 0.2184 - accuracy: 0.9286 - val_loss: 0.8914 - val_accuracy: 0.7566\n",
      "Epoch 4/15\n",
      "1213/1213 [==============================] - 239s 197ms/step - loss: 0.1570 - accuracy: 0.9476 - val_loss: 0.4662 - val_accuracy: 0.8505\n",
      "Epoch 5/15\n",
      "1213/1213 [==============================] - 238s 196ms/step - loss: 0.1340 - accuracy: 0.9557 - val_loss: 0.2608 - val_accuracy: 0.9250\n",
      "Epoch 6/15\n",
      "1213/1213 [==============================] - 238s 196ms/step - loss: 0.0959 - accuracy: 0.9684 - val_loss: 1.0135 - val_accuracy: 0.7881\n",
      "Epoch 7/15\n",
      "1213/1213 [==============================] - 238s 196ms/step - loss: 0.0870 - accuracy: 0.9716 - val_loss: 0.9119 - val_accuracy: 0.7918\n",
      "Epoch 8/15\n",
      "1213/1213 [==============================] - 240s 198ms/step - loss: 0.0764 - accuracy: 0.9740 - val_loss: 0.4705 - val_accuracy: 0.8722\n",
      "Epoch 9/15\n",
      "1213/1213 [==============================] - 238s 197ms/step - loss: 0.0607 - accuracy: 0.9797 - val_loss: 0.4555 - val_accuracy: 0.8651\n",
      "Epoch 10/15\n",
      "1213/1213 [==============================] - 238s 196ms/step - loss: 0.0544 - accuracy: 0.9812 - val_loss: 0.5953 - val_accuracy: 0.8641\n",
      "Epoch 11/15\n",
      "1213/1213 [==============================] - 238s 197ms/step - loss: 0.0532 - accuracy: 0.9824 - val_loss: 1.2812 - val_accuracy: 0.7291\n",
      "Epoch 12/15\n",
      "1213/1213 [==============================] - 238s 196ms/step - loss: 0.0433 - accuracy: 0.9853 - val_loss: 1.3581 - val_accuracy: 0.7337\n",
      "Epoch 13/15\n",
      "1213/1213 [==============================] - 238s 196ms/step - loss: 0.0412 - accuracy: 0.9861 - val_loss: 0.1774 - val_accuracy: 0.9520\n",
      "Epoch 14/15\n",
      "1213/1213 [==============================] - 238s 196ms/step - loss: 0.0346 - accuracy: 0.9881 - val_loss: 0.1830 - val_accuracy: 0.9514\n",
      "Epoch 15/15\n",
      "1213/1213 [==============================] - 239s 197ms/step - loss: 0.0344 - accuracy: 0.9883 - val_loss: 0.1154 - val_accuracy: 0.9661\n"
     ]
    }
   ],
   "source": [
    "history = model.fit(\n",
    "    train_generator,\n",
    "    validation_data=valid_generator,\n",
    "    epochs=15,  \n",
    "    verbose=1\n",
    ")"
   ]
  },
  {
   "cell_type": "code",
   "execution_count": 9,
   "id": "bfa5c541",
   "metadata": {
    "execution": {
     "iopub.execute_input": "2025-01-06T20:42:40.959390Z",
     "iopub.status.busy": "2025-01-06T20:42:40.959062Z",
     "iopub.status.idle": "2025-01-06T20:42:49.908081Z",
     "shell.execute_reply": "2025-01-06T20:42:49.907194Z"
    },
    "papermill": {
     "duration": 9.829978,
     "end_time": "2025-01-06T20:42:49.909688",
     "exception": false,
     "start_time": "2025-01-06T20:42:40.079710",
     "status": "completed"
    },
    "tags": []
   },
   "outputs": [
    {
     "name": "stdout",
     "output_type": "stream",
     "text": [
      "175/175 [==============================] - 9s 50ms/step - loss: 0.1088 - accuracy: 0.9673\n",
      "Test Accuracy: 0.9673\n"
     ]
    }
   ],
   "source": [
    "test_loss, test_accuracy = model.evaluate(test_generator, verbose=1)\n",
    "print(f\"Test Accuracy: {test_accuracy:.4f}\")"
   ]
  },
  {
   "cell_type": "code",
   "execution_count": 10,
   "id": "7776b6e4",
   "metadata": {
    "execution": {
     "iopub.execute_input": "2025-01-06T20:42:51.624029Z",
     "iopub.status.busy": "2025-01-06T20:42:51.623675Z",
     "iopub.status.idle": "2025-01-06T20:43:00.211833Z",
     "shell.execute_reply": "2025-01-06T20:43:00.210817Z"
    },
    "papermill": {
     "duration": 9.41519,
     "end_time": "2025-01-06T20:43:00.213440",
     "exception": false,
     "start_time": "2025-01-06T20:42:50.798250",
     "status": "completed"
    },
    "tags": []
   },
   "outputs": [
    {
     "name": "stdout",
     "output_type": "stream",
     "text": [
      "175/175 [==============================] - 8s 46ms/step\n",
      "\n",
      "Classification Report:\n",
      "                                               precision    recall  f1-score   support\n",
      "\n",
      "                           Apple___Apple_scab       0.94      0.98      0.96        64\n",
      "                            Apple___Black_rot       0.85      1.00      0.92        63\n",
      "                     Apple___Cedar_apple_rust       0.97      1.00      0.98        28\n",
      "                              Apple___healthy       0.99      1.00      0.99       165\n",
      "                    Background_without_leaves       0.95      0.99      0.97       115\n",
      "                          Blueberry___healthy       0.97      1.00      0.98       151\n",
      "                      Cherry___Powdery_mildew       0.98      0.98      0.98       106\n",
      "                             Cherry___healthy       0.99      0.99      0.99        86\n",
      "   Corn___Cercospora_leaf_spot Gray_leaf_spot       0.86      0.94      0.90        52\n",
      "                           Corn___Common_rust       0.97      1.00      0.98       120\n",
      "                  Corn___Northern_Leaf_Blight       0.99      0.87      0.92        99\n",
      "                               Corn___healthy       1.00      0.99      1.00       117\n",
      "                            Grape___Black_rot       0.96      0.98      0.97       119\n",
      "                 Grape___Esca_(Black_Measles)       0.98      0.99      0.98       139\n",
      "   Grape___Leaf_blight_(Isariopsis_Leaf_Spot)       1.00      0.77      0.87       108\n",
      "                              Grape___healthy       0.98      1.00      0.99        43\n",
      "     Orange___Haunglongbing_(Citrus_greening)       0.99      1.00      1.00       551\n",
      "                       Peach___Bacterial_spot       0.99      1.00      0.99       230\n",
      "                              Peach___healthy       0.95      1.00      0.97        37\n",
      "                Pepper,_bell___Bacterial_spot       0.89      0.97      0.93       100\n",
      "                       Pepper,_bell___healthy       1.00      0.93      0.96       148\n",
      "                        Potato___Early_blight       0.97      0.85      0.91       101\n",
      "                         Potato___Late_blight       0.98      0.96      0.97       101\n",
      "                             Potato___healthy       0.70      1.00      0.82        16\n",
      "                          Raspberry___healthy       1.00      0.97      0.99        38\n",
      "                            Soybean___healthy       1.00      0.97      0.99       510\n",
      "                      Squash___Powdery_mildew       1.00      0.97      0.99       184\n",
      "                     Strawberry___Leaf_scorch       0.83      0.99      0.90       111\n",
      "                         Strawberry___healthy       0.98      1.00      0.99        46\n",
      "                      Tomato___Bacterial_spot       0.95      0.98      0.97       213\n",
      "                        Tomato___Early_blight       0.90      0.82      0.86       101\n",
      "                         Tomato___Late_blight       0.93      0.93      0.93       191\n",
      "                           Tomato___Leaf_Mold       0.99      0.97      0.98        96\n",
      "                  Tomato___Septoria_leaf_spot       0.96      0.89      0.92       178\n",
      "Tomato___Spider_mites Two-spotted_spider_mite       0.99      1.00      0.99       168\n",
      "                         Tomato___Target_Spot       0.93      0.96      0.94       141\n",
      "       Tomato___Tomato_Yellow_Leaf_Curl_Virus       1.00      0.98      0.99       536\n",
      "                 Tomato___Tomato_mosaic_virus       0.81      1.00      0.89        38\n",
      "                             Tomato___healthy       0.97      1.00      0.98       160\n",
      "\n",
      "                                     accuracy                           0.97      5570\n",
      "                                    macro avg       0.95      0.96      0.96      5570\n",
      "                                 weighted avg       0.97      0.97      0.97      5570\n",
      "\n"
     ]
    }
   ],
   "source": [
    "# Predictions and true labels\n",
    "y_pred_probs = model.predict(test_generator, verbose=1)\n",
    "y_pred_classes = np.argmax(y_pred_probs, axis=1)\n",
    "y_true = test_generator.classes\n",
    "\n",
    "# Metrics: Classification Report\n",
    "print(\"\\nClassification Report:\")\n",
    "class_labels = list(test_generator.class_indices.keys())\n",
    "print(classification_report(y_true, y_pred_classes, target_names=class_labels))"
   ]
  }
 ],
 "metadata": {
  "kaggle": {
   "accelerator": "nvidiaTeslaT4",
   "dataSources": [
    {
     "datasetId": 6121008,
     "sourceId": 9952857,
     "sourceType": "datasetVersion"
    }
   ],
   "dockerImageVersionId": 30587,
   "isGpuEnabled": true,
   "isInternetEnabled": true,
   "language": "python",
   "sourceType": "notebook"
  },
  "kernelspec": {
   "display_name": "Python 3",
   "language": "python",
   "name": "python3"
  },
  "language_info": {
   "codemirror_mode": {
    "name": "ipython",
    "version": 3
   },
   "file_extension": ".py",
   "mimetype": "text/x-python",
   "name": "python",
   "nbconvert_exporter": "python",
   "pygments_lexer": "ipython3",
   "version": "3.10.12"
  },
  "papermill": {
   "default_parameters": {},
   "duration": 3930.944741,
   "end_time": "2025-01-06T20:43:04.622750",
   "environment_variables": {},
   "exception": null,
   "input_path": "__notebook__.ipynb",
   "output_path": "__notebook__.ipynb",
   "parameters": {},
   "start_time": "2025-01-06T19:37:33.678009",
   "version": "2.4.0"
  }
 },
 "nbformat": 4,
 "nbformat_minor": 5
}
