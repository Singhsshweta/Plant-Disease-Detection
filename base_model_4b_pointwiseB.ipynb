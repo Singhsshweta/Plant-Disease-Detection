{
 "cells": [
  {
   "cell_type": "code",
   "execution_count": 1,
   "id": "d9450dfd",
   "metadata": {
    "execution": {
     "iopub.execute_input": "2025-01-06T18:08:40.468672Z",
     "iopub.status.busy": "2025-01-06T18:08:40.468054Z",
     "iopub.status.idle": "2025-01-06T18:08:41.340809Z",
     "shell.execute_reply": "2025-01-06T18:08:41.340085Z"
    },
    "papermill": {
     "duration": 0.878508,
     "end_time": "2025-01-06T18:08:41.342745",
     "exception": false,
     "start_time": "2025-01-06T18:08:40.464237",
     "status": "completed"
    },
    "tags": []
   },
   "outputs": [
    {
     "name": "stderr",
     "output_type": "stream",
     "text": [
      "/opt/conda/lib/python3.10/site-packages/scipy/__init__.py:146: UserWarning: A NumPy version >=1.16.5 and <1.23.0 is required for this version of SciPy (detected version 1.24.3\n",
      "  warnings.warn(f\"A NumPy version >={np_minversion} and <{np_maxversion}\"\n"
     ]
    }
   ],
   "source": [
    "import os\n",
    "import zipfile\n",
    "import shutil\n",
    "from sklearn.model_selection import train_test_split"
   ]
  },
  {
   "cell_type": "code",
   "execution_count": 2,
   "id": "28804c22",
   "metadata": {
    "execution": {
     "iopub.execute_input": "2025-01-06T18:08:41.348724Z",
     "iopub.status.busy": "2025-01-06T18:08:41.348451Z",
     "iopub.status.idle": "2025-01-06T18:08:41.352132Z",
     "shell.execute_reply": "2025-01-06T18:08:41.351338Z"
    },
    "papermill": {
     "duration": 0.008386,
     "end_time": "2025-01-06T18:08:41.353787",
     "exception": false,
     "start_time": "2025-01-06T18:08:41.345401",
     "status": "completed"
    },
    "tags": []
   },
   "outputs": [],
   "source": [
    "extract_path = \"/kaggle/input/plant-leaf/Plant_leave_diseases_dataset_without_augmentation\"\n",
    "output_dir = '/kaggle/working/'"
   ]
  },
  {
   "cell_type": "code",
   "execution_count": 3,
   "id": "110b8ed4",
   "metadata": {
    "execution": {
     "iopub.execute_input": "2025-01-06T18:08:41.359297Z",
     "iopub.status.busy": "2025-01-06T18:08:41.358903Z",
     "iopub.status.idle": "2025-01-06T18:12:14.953902Z",
     "shell.execute_reply": "2025-01-06T18:12:14.953081Z"
    },
    "papermill": {
     "duration": 213.602009,
     "end_time": "2025-01-06T18:12:14.958024",
     "exception": false,
     "start_time": "2025-01-06T18:08:41.356015",
     "status": "completed"
    },
    "tags": []
   },
   "outputs": [
    {
     "name": "stdout",
     "output_type": "stream",
     "text": [
      "Dataset has been successfully split into train, valid, and test sets!\n"
     ]
    }
   ],
   "source": [
    "# Create output subdirectories for train, valid, and test\n",
    "subdirs = ['train', 'valid', 'test']\n",
    "for subdir in subdirs:\n",
    "    os.makedirs(os.path.join(output_dir, subdir), exist_ok=True)\n",
    "\n",
    "# Split ratios\n",
    "train_ratio = 0.7\n",
    "valid_ratio = 0.2\n",
    "test_ratio = 0.1\n",
    "\n",
    "# Process each class folder\n",
    "for class_name in os.listdir(extract_path):\n",
    "    class_path = os.path.join(extract_path, class_name)\n",
    "    \n",
    "    # Check if it's a directory\n",
    "    if os.path.isdir(class_path):\n",
    "        # Get all image filenames in the folder\n",
    "        images = [f for f in os.listdir(class_path) if os.path.isfile(os.path.join(class_path, f))]\n",
    "        \n",
    "        if not images:\n",
    "            print(f\"No images found in {class_name}, skipping...\")\n",
    "            continue\n",
    "        \n",
    "        # Split the dataset into train, valid, and test\n",
    "        train_files, temp_files = train_test_split(images, test_size=(1 - train_ratio), random_state=42)\n",
    "        valid_files, test_files = train_test_split(temp_files, test_size=(test_ratio / (valid_ratio + test_ratio)), random_state=42)\n",
    "        \n",
    "        # Copy files to respective directories\n",
    "        for split, split_files in zip(subdirs, [train_files, valid_files, test_files]):\n",
    "            split_class_dir = os.path.join(output_dir, split, class_name)\n",
    "            os.makedirs(split_class_dir, exist_ok=True)\n",
    "            \n",
    "            for file_name in split_files:\n",
    "                src = os.path.join(class_path, file_name)\n",
    "                dest = os.path.join(split_class_dir, file_name)\n",
    "                shutil.copy(src, dest)\n",
    "\n",
    "print(\"Dataset has been successfully split into train, valid, and test sets!\")\n",
    "\n",
    "\n"
   ]
  },
  {
   "cell_type": "code",
   "execution_count": 4,
   "id": "a8330622",
   "metadata": {
    "execution": {
     "iopub.execute_input": "2025-01-06T18:12:14.963769Z",
     "iopub.status.busy": "2025-01-06T18:12:14.963508Z",
     "iopub.status.idle": "2025-01-06T18:12:26.742395Z",
     "shell.execute_reply": "2025-01-06T18:12:26.741479Z"
    },
    "papermill": {
     "duration": 11.784013,
     "end_time": "2025-01-06T18:12:26.744357",
     "exception": false,
     "start_time": "2025-01-06T18:12:14.960344",
     "status": "completed"
    },
    "tags": []
   },
   "outputs": [
    {
     "name": "stdout",
     "output_type": "stream",
     "text": [
      "Found 38791 images belonging to 39 classes.\n",
      "Found 11087 images belonging to 39 classes.\n",
      "Found 5570 images belonging to 39 classes.\n",
      "Class Indices: {'Apple___Apple_scab': 0, 'Apple___Black_rot': 1, 'Apple___Cedar_apple_rust': 2, 'Apple___healthy': 3, 'Background_without_leaves': 4, 'Blueberry___healthy': 5, 'Cherry___Powdery_mildew': 6, 'Cherry___healthy': 7, 'Corn___Cercospora_leaf_spot Gray_leaf_spot': 8, 'Corn___Common_rust': 9, 'Corn___Northern_Leaf_Blight': 10, 'Corn___healthy': 11, 'Grape___Black_rot': 12, 'Grape___Esca_(Black_Measles)': 13, 'Grape___Leaf_blight_(Isariopsis_Leaf_Spot)': 14, 'Grape___healthy': 15, 'Orange___Haunglongbing_(Citrus_greening)': 16, 'Peach___Bacterial_spot': 17, 'Peach___healthy': 18, 'Pepper,_bell___Bacterial_spot': 19, 'Pepper,_bell___healthy': 20, 'Potato___Early_blight': 21, 'Potato___Late_blight': 22, 'Potato___healthy': 23, 'Raspberry___healthy': 24, 'Soybean___healthy': 25, 'Squash___Powdery_mildew': 26, 'Strawberry___Leaf_scorch': 27, 'Strawberry___healthy': 28, 'Tomato___Bacterial_spot': 29, 'Tomato___Early_blight': 30, 'Tomato___Late_blight': 31, 'Tomato___Leaf_Mold': 32, 'Tomato___Septoria_leaf_spot': 33, 'Tomato___Spider_mites Two-spotted_spider_mite': 34, 'Tomato___Target_Spot': 35, 'Tomato___Tomato_Yellow_Leaf_Curl_Virus': 36, 'Tomato___Tomato_mosaic_virus': 37, 'Tomato___healthy': 38}\n"
     ]
    }
   ],
   "source": [
    "import os\n",
    "from tensorflow.keras.preprocessing.image import ImageDataGenerator\n",
    "\n",
    "# Paths to split dataset directories\n",
    "base_dir = \"/kaggle/working/\"\n",
    "train_dir = os.path.join(base_dir, 'train')\n",
    "valid_dir = os.path.join(base_dir, 'valid')\n",
    "test_dir = os.path.join(base_dir, 'test')\n",
    "\n",
    "# Image dimensions and batch size\n",
    "img_height = 224\n",
    "img_width = 224\n",
    "batch_size = 32\n",
    "\n",
    "# Data Generators for Training, Validation, and Test Sets (Only Rescaling)\n",
    "data_gen = ImageDataGenerator(rescale=1.0/255.0)\n",
    "\n",
    "# Loading Data with Data Generators\n",
    "train_generator = data_gen.flow_from_directory(\n",
    "    train_dir,\n",
    "    target_size=(img_height, img_width),\n",
    "    batch_size=batch_size,\n",
    "    class_mode='categorical' \n",
    ")\n",
    "\n",
    "valid_generator = data_gen.flow_from_directory(\n",
    "    valid_dir,\n",
    "    target_size=(img_height, img_width),\n",
    "    batch_size=batch_size,\n",
    "    class_mode='categorical'\n",
    ")\n",
    "\n",
    "test_generator = data_gen.flow_from_directory(\n",
    "    test_dir,\n",
    "    target_size=(img_height, img_width),\n",
    "    batch_size=batch_size,\n",
    "    class_mode='categorical',\n",
    "    shuffle=False  \n",
    "    \n",
    ")\n",
    "\n",
    "# Display Class Indices\n",
    "class_indices = train_generator.class_indices\n",
    "print(\"Class Indices:\", class_indices)\n"
   ]
  },
  {
   "cell_type": "code",
   "execution_count": 5,
   "id": "0344866f",
   "metadata": {
    "execution": {
     "iopub.execute_input": "2025-01-06T18:12:26.751289Z",
     "iopub.status.busy": "2025-01-06T18:12:26.750806Z",
     "iopub.status.idle": "2025-01-06T18:12:26.757110Z",
     "shell.execute_reply": "2025-01-06T18:12:26.756544Z"
    },
    "papermill": {
     "duration": 0.011455,
     "end_time": "2025-01-06T18:12:26.758698",
     "exception": false,
     "start_time": "2025-01-06T18:12:26.747243",
     "status": "completed"
    },
    "tags": []
   },
   "outputs": [],
   "source": [
    "import tensorflow as tf\n",
    "from tensorflow.keras.models import Sequential\n",
    "from tensorflow.keras.layers import (\n",
    "    Conv2D, MaxPooling2D, Dense, Dropout, BatchNormalization,\n",
    "    GlobalAveragePooling2D)\n",
    "from tensorflow.keras.optimizers import Adam\n",
    "from sklearn.metrics import classification_report, roc_auc_score\n",
    "import numpy as np"
   ]
  },
  {
   "cell_type": "code",
   "execution_count": 6,
   "id": "6bdd6456",
   "metadata": {
    "execution": {
     "iopub.execute_input": "2025-01-06T18:12:26.764818Z",
     "iopub.status.busy": "2025-01-06T18:12:26.764482Z",
     "iopub.status.idle": "2025-01-06T18:12:28.094739Z",
     "shell.execute_reply": "2025-01-06T18:12:28.093692Z"
    },
    "papermill": {
     "duration": 1.335642,
     "end_time": "2025-01-06T18:12:28.096907",
     "exception": false,
     "start_time": "2025-01-06T18:12:26.761265",
     "status": "completed"
    },
    "tags": []
   },
   "outputs": [],
   "source": [
    "model = Sequential([\n",
    "    # First block\n",
    "    Conv2D(32, (3, 3), activation='relu', input_shape=(224, 224, 3), padding='same'),\n",
    "    BatchNormalization(),\n",
    "    Conv2D(32, (3, 3), activation='relu', padding='same'),\n",
    "    BatchNormalization(),\n",
    "    MaxPooling2D((2, 2)),\n",
    "\n",
    "    # Second block\n",
    "    Conv2D(64, (3, 3), activation='relu', padding='same'),\n",
    "    BatchNormalization(),\n",
    "    Conv2D(64, (3, 3), activation='relu', padding='same'),\n",
    "    BatchNormalization(),\n",
    "    MaxPooling2D((2, 2)),\n",
    "\n",
    "    # Third block\n",
    "    Conv2D(128, (3, 3), activation='relu', padding='same'),\n",
    "    BatchNormalization(),\n",
    "    Conv2D(128, (3, 3), activation='relu', padding='same'),\n",
    "    BatchNormalization(),\n",
    "    MaxPooling2D((2, 2)),\n",
    "\n",
    "    # Fourth block\n",
    "    Conv2D(256, (3, 3), activation='relu', padding='same'),\n",
    "    BatchNormalization(),\n",
    "    Conv2D(256, (1,1), activation='relu', padding='same'),\n",
    "    BatchNormalization(),\n",
    "    MaxPooling2D((2, 2)),\n",
    "\n",
    "    # Global Average Pooling\n",
    "    GlobalAveragePooling2D(),\n",
    "\n",
    "    # Fully connected layers\n",
    "    Dense(256, activation='relu'),\n",
    "    BatchNormalization(),\n",
    "    Dropout(0.05),\n",
    "    Dense(len(train_generator.class_indices), activation='softmax')  # Number of classes\n",
    "])\n"
   ]
  },
  {
   "cell_type": "code",
   "execution_count": 7,
   "id": "e9268d52",
   "metadata": {
    "execution": {
     "iopub.execute_input": "2025-01-06T18:12:28.103754Z",
     "iopub.status.busy": "2025-01-06T18:12:28.103473Z",
     "iopub.status.idle": "2025-01-06T18:12:28.117782Z",
     "shell.execute_reply": "2025-01-06T18:12:28.116935Z"
    },
    "papermill": {
     "duration": 0.019552,
     "end_time": "2025-01-06T18:12:28.119417",
     "exception": false,
     "start_time": "2025-01-06T18:12:28.099865",
     "status": "completed"
    },
    "tags": []
   },
   "outputs": [],
   "source": [
    "model.compile(\n",
    "    optimizer=Adam(learning_rate=0.001),\n",
    "    loss='categorical_crossentropy',\n",
    "    metrics=['accuracy']\n",
    ")"
   ]
  },
  {
   "cell_type": "code",
   "execution_count": 8,
   "id": "285e8d41",
   "metadata": {
    "execution": {
     "iopub.execute_input": "2025-01-06T18:12:28.125707Z",
     "iopub.status.busy": "2025-01-06T18:12:28.125457Z",
     "iopub.status.idle": "2025-01-06T19:09:21.760203Z",
     "shell.execute_reply": "2025-01-06T19:09:21.759201Z"
    },
    "papermill": {
     "duration": 3414.538493,
     "end_time": "2025-01-06T19:09:22.660529",
     "exception": false,
     "start_time": "2025-01-06T18:12:28.122036",
     "status": "completed"
    },
    "tags": []
   },
   "outputs": [
    {
     "name": "stdout",
     "output_type": "stream",
     "text": [
      "Epoch 1/15\n",
      "1213/1213 [==============================] - 235s 184ms/step - loss: 0.8503 - accuracy: 0.7505 - val_loss: 3.0245 - val_accuracy: 0.4376\n",
      "Epoch 2/15\n",
      "1213/1213 [==============================] - 232s 191ms/step - loss: 0.3262 - accuracy: 0.8964 - val_loss: 0.4940 - val_accuracy: 0.8435\n",
      "Epoch 3/15\n",
      "1213/1213 [==============================] - 226s 186ms/step - loss: 0.2100 - accuracy: 0.9312 - val_loss: 0.6411 - val_accuracy: 0.8158\n",
      "Epoch 4/15\n",
      "1213/1213 [==============================] - 229s 189ms/step - loss: 0.1576 - accuracy: 0.9484 - val_loss: 0.4695 - val_accuracy: 0.8489\n",
      "Epoch 5/15\n",
      "1213/1213 [==============================] - 227s 187ms/step - loss: 0.1227 - accuracy: 0.9596 - val_loss: 4.4998 - val_accuracy: 0.3125\n",
      "Epoch 6/15\n",
      "1213/1213 [==============================] - 226s 186ms/step - loss: 0.1078 - accuracy: 0.9647 - val_loss: 0.9598 - val_accuracy: 0.7587\n",
      "Epoch 7/15\n",
      "1213/1213 [==============================] - 227s 187ms/step - loss: 0.0885 - accuracy: 0.9710 - val_loss: 1.2089 - val_accuracy: 0.7297\n",
      "Epoch 8/15\n",
      "1213/1213 [==============================] - 227s 187ms/step - loss: 0.0792 - accuracy: 0.9730 - val_loss: 0.2406 - val_accuracy: 0.9222\n",
      "Epoch 9/15\n",
      "1213/1213 [==============================] - 226s 186ms/step - loss: 0.0686 - accuracy: 0.9776 - val_loss: 0.3790 - val_accuracy: 0.8894\n",
      "Epoch 10/15\n",
      "1213/1213 [==============================] - 226s 186ms/step - loss: 0.0559 - accuracy: 0.9815 - val_loss: 0.5615 - val_accuracy: 0.8551\n",
      "Epoch 11/15\n",
      "1213/1213 [==============================] - 226s 186ms/step - loss: 0.0536 - accuracy: 0.9818 - val_loss: 0.4689 - val_accuracy: 0.8844\n",
      "Epoch 12/15\n",
      "1213/1213 [==============================] - 228s 188ms/step - loss: 0.0487 - accuracy: 0.9834 - val_loss: 0.2769 - val_accuracy: 0.9307\n",
      "Epoch 13/15\n",
      "1213/1213 [==============================] - 227s 187ms/step - loss: 0.0407 - accuracy: 0.9857 - val_loss: 0.5283 - val_accuracy: 0.8640\n",
      "Epoch 14/15\n",
      "1213/1213 [==============================] - 227s 187ms/step - loss: 0.0457 - accuracy: 0.9852 - val_loss: 0.5681 - val_accuracy: 0.8725\n",
      "Epoch 15/15\n",
      "1213/1213 [==============================] - 226s 186ms/step - loss: 0.0371 - accuracy: 0.9874 - val_loss: 0.2716 - val_accuracy: 0.9227\n"
     ]
    }
   ],
   "source": [
    "history = model.fit(\n",
    "    train_generator,\n",
    "    validation_data=valid_generator,\n",
    "    epochs=15,  \n",
    "    verbose=1\n",
    ")"
   ]
  },
  {
   "cell_type": "code",
   "execution_count": 9,
   "id": "d6b68373",
   "metadata": {
    "execution": {
     "iopub.execute_input": "2025-01-06T19:09:24.475647Z",
     "iopub.status.busy": "2025-01-06T19:09:24.474927Z",
     "iopub.status.idle": "2025-01-06T19:09:33.993588Z",
     "shell.execute_reply": "2025-01-06T19:09:33.992413Z"
    },
    "papermill": {
     "duration": 10.417617,
     "end_time": "2025-01-06T19:09:33.995594",
     "exception": false,
     "start_time": "2025-01-06T19:09:23.577977",
     "status": "completed"
    },
    "tags": []
   },
   "outputs": [
    {
     "name": "stdout",
     "output_type": "stream",
     "text": [
      "175/175 [==============================] - 9s 53ms/step - loss: 0.2512 - accuracy: 0.9242\n",
      "Test Accuracy: 0.9242\n"
     ]
    }
   ],
   "source": [
    "test_loss, test_accuracy = model.evaluate(test_generator, verbose=1)\n",
    "print(f\"Test Accuracy: {test_accuracy:.4f}\")"
   ]
  },
  {
   "cell_type": "code",
   "execution_count": 10,
   "id": "afcccb77",
   "metadata": {
    "execution": {
     "iopub.execute_input": "2025-01-06T19:09:35.803220Z",
     "iopub.status.busy": "2025-01-06T19:09:35.802373Z",
     "iopub.status.idle": "2025-01-06T19:09:44.453051Z",
     "shell.execute_reply": "2025-01-06T19:09:44.452077Z"
    },
    "papermill": {
     "duration": 9.56037,
     "end_time": "2025-01-06T19:09:44.455097",
     "exception": false,
     "start_time": "2025-01-06T19:09:34.894727",
     "status": "completed"
    },
    "tags": []
   },
   "outputs": [
    {
     "name": "stdout",
     "output_type": "stream",
     "text": [
      "175/175 [==============================] - 8s 47ms/step\n",
      "\n",
      "Classification Report:\n",
      "                                               precision    recall  f1-score   support\n",
      "\n",
      "                           Apple___Apple_scab       0.98      1.00      0.99        64\n",
      "                            Apple___Black_rot       1.00      0.83      0.90        63\n",
      "                     Apple___Cedar_apple_rust       1.00      0.82      0.90        28\n",
      "                              Apple___healthy       0.96      0.99      0.98       165\n",
      "                    Background_without_leaves       0.80      1.00      0.89       115\n",
      "                          Blueberry___healthy       0.92      0.98      0.95       151\n",
      "                      Cherry___Powdery_mildew       0.99      0.86      0.92       106\n",
      "                             Cherry___healthy       1.00      0.86      0.92        86\n",
      "   Corn___Cercospora_leaf_spot Gray_leaf_spot       0.75      0.94      0.84        52\n",
      "                           Corn___Common_rust       0.99      0.99      0.99       120\n",
      "                  Corn___Northern_Leaf_Blight       0.98      0.85      0.91        99\n",
      "                               Corn___healthy       0.62      1.00      0.76       117\n",
      "                            Grape___Black_rot       0.93      0.98      0.96       119\n",
      "                 Grape___Esca_(Black_Measles)       0.96      0.96      0.96       139\n",
      "   Grape___Leaf_blight_(Isariopsis_Leaf_Spot)       0.93      0.96      0.95       108\n",
      "                              Grape___healthy       0.92      0.81      0.86        43\n",
      "     Orange___Haunglongbing_(Citrus_greening)       0.99      0.99      0.99       551\n",
      "                       Peach___Bacterial_spot       0.94      0.97      0.95       230\n",
      "                              Peach___healthy       1.00      0.70      0.83        37\n",
      "                Pepper,_bell___Bacterial_spot       0.99      0.86      0.92       100\n",
      "                       Pepper,_bell___healthy       0.75      0.99      0.86       148\n",
      "                        Potato___Early_blight       0.93      0.99      0.96       101\n",
      "                         Potato___Late_blight       1.00      0.82      0.90       101\n",
      "                             Potato___healthy       0.77      0.62      0.69        16\n",
      "                          Raspberry___healthy       1.00      0.89      0.94        38\n",
      "                            Soybean___healthy       0.98      0.84      0.91       510\n",
      "                      Squash___Powdery_mildew       1.00      0.88      0.94       184\n",
      "                     Strawberry___Leaf_scorch       0.89      0.96      0.93       111\n",
      "                         Strawberry___healthy       0.60      1.00      0.75        46\n",
      "                      Tomato___Bacterial_spot       0.99      0.90      0.94       213\n",
      "                        Tomato___Early_blight       0.93      0.66      0.77       101\n",
      "                         Tomato___Late_blight       0.90      0.88      0.89       191\n",
      "                           Tomato___Leaf_Mold       1.00      0.83      0.91        96\n",
      "                  Tomato___Septoria_leaf_spot       0.75      0.99      0.85       178\n",
      "Tomato___Spider_mites Two-spotted_spider_mite       0.93      0.93      0.93       168\n",
      "                         Tomato___Target_Spot       0.95      0.83      0.89       141\n",
      "       Tomato___Tomato_Yellow_Leaf_Curl_Virus       1.00      0.96      0.98       536\n",
      "                 Tomato___Tomato_mosaic_virus       1.00      0.82      0.90        38\n",
      "                             Tomato___healthy       0.90      1.00      0.95       160\n",
      "\n",
      "                                     accuracy                           0.92      5570\n",
      "                                    macro avg       0.92      0.90      0.90      5570\n",
      "                                 weighted avg       0.94      0.92      0.93      5570\n",
      "\n"
     ]
    }
   ],
   "source": [
    "# Predictions and true labels\n",
    "y_pred_probs = model.predict(test_generator, verbose=1)\n",
    "y_pred_classes = np.argmax(y_pred_probs, axis=1)\n",
    "y_true = test_generator.classes\n",
    "\n",
    "# Metrics: Classification Report\n",
    "print(\"\\nClassification Report:\")\n",
    "class_labels = list(test_generator.class_indices.keys())\n",
    "print(classification_report(y_true, y_pred_classes, target_names=class_labels))"
   ]
  }
 ],
 "metadata": {
  "kaggle": {
   "accelerator": "nvidiaTeslaT4",
   "dataSources": [
    {
     "datasetId": 6121008,
     "sourceId": 9952857,
     "sourceType": "datasetVersion"
    }
   ],
   "dockerImageVersionId": 30587,
   "isGpuEnabled": true,
   "isInternetEnabled": true,
   "language": "python",
   "sourceType": "notebook"
  },
  "kernelspec": {
   "display_name": "Python 3",
   "language": "python",
   "name": "python3"
  },
  "language_info": {
   "codemirror_mode": {
    "name": "ipython",
    "version": 3
   },
   "file_extension": ".py",
   "mimetype": "text/x-python",
   "name": "python",
   "nbconvert_exporter": "python",
   "pygments_lexer": "ipython3",
   "version": "3.10.12"
  },
  "papermill": {
   "default_parameters": {},
   "duration": 3670.712515,
   "end_time": "2025-01-06T19:09:48.314862",
   "environment_variables": {},
   "exception": null,
   "input_path": "__notebook__.ipynb",
   "output_path": "__notebook__.ipynb",
   "parameters": {},
   "start_time": "2025-01-06T18:08:37.602347",
   "version": "2.4.0"
  }
 },
 "nbformat": 4,
 "nbformat_minor": 5
}
