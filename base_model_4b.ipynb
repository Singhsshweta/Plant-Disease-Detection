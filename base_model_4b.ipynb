{
 "cells": [
  {
   "cell_type": "code",
   "execution_count": 1,
   "id": "c6d1cf26",
   "metadata": {
    "execution": {
     "iopub.execute_input": "2025-01-06T16:31:15.200910Z",
     "iopub.status.busy": "2025-01-06T16:31:15.200583Z",
     "iopub.status.idle": "2025-01-06T16:31:16.250554Z",
     "shell.execute_reply": "2025-01-06T16:31:16.249806Z"
    },
    "papermill": {
     "duration": 1.056061,
     "end_time": "2025-01-06T16:31:16.252528",
     "exception": false,
     "start_time": "2025-01-06T16:31:15.196467",
     "status": "completed"
    },
    "tags": []
   },
   "outputs": [
    {
     "name": "stderr",
     "output_type": "stream",
     "text": [
      "/opt/conda/lib/python3.10/site-packages/scipy/__init__.py:146: UserWarning: A NumPy version >=1.16.5 and <1.23.0 is required for this version of SciPy (detected version 1.24.3\n",
      "  warnings.warn(f\"A NumPy version >={np_minversion} and <{np_maxversion}\"\n"
     ]
    }
   ],
   "source": [
    "import os\n",
    "import zipfile\n",
    "import shutil\n",
    "from sklearn.model_selection import train_test_split"
   ]
  },
  {
   "cell_type": "code",
   "execution_count": 2,
   "id": "a0960f77",
   "metadata": {
    "execution": {
     "iopub.execute_input": "2025-01-06T16:31:16.259159Z",
     "iopub.status.busy": "2025-01-06T16:31:16.258921Z",
     "iopub.status.idle": "2025-01-06T16:31:16.263448Z",
     "shell.execute_reply": "2025-01-06T16:31:16.262674Z"
    },
    "papermill": {
     "duration": 0.009912,
     "end_time": "2025-01-06T16:31:16.265325",
     "exception": false,
     "start_time": "2025-01-06T16:31:16.255413",
     "status": "completed"
    },
    "tags": []
   },
   "outputs": [],
   "source": [
    "extract_path = \"/kaggle/input/plant-leaf/Plant_leave_diseases_dataset_without_augmentation\"\n",
    "output_dir = '/kaggle/working/'"
   ]
  },
  {
   "cell_type": "code",
   "execution_count": 3,
   "id": "a2e418f1",
   "metadata": {
    "execution": {
     "iopub.execute_input": "2025-01-06T16:31:16.271559Z",
     "iopub.status.busy": "2025-01-06T16:31:16.270959Z",
     "iopub.status.idle": "2025-01-06T16:35:20.948282Z",
     "shell.execute_reply": "2025-01-06T16:35:20.947361Z"
    },
    "papermill": {
     "duration": 244.68489,
     "end_time": "2025-01-06T16:35:20.952716",
     "exception": false,
     "start_time": "2025-01-06T16:31:16.267826",
     "status": "completed"
    },
    "tags": []
   },
   "outputs": [
    {
     "name": "stdout",
     "output_type": "stream",
     "text": [
      "Dataset has been successfully split into train, valid, and test sets!\n"
     ]
    }
   ],
   "source": [
    "# Create output subdirectories for train, valid, and test\n",
    "subdirs = ['train', 'valid', 'test']\n",
    "for subdir in subdirs:\n",
    "    os.makedirs(os.path.join(output_dir, subdir), exist_ok=True)\n",
    "\n",
    "# Split ratios\n",
    "train_ratio = 0.7\n",
    "valid_ratio = 0.2\n",
    "test_ratio = 0.1\n",
    "\n",
    "# Process each class folder\n",
    "for class_name in os.listdir(extract_path):\n",
    "    class_path = os.path.join(extract_path, class_name)\n",
    "    \n",
    "    # Check if it's a directory\n",
    "    if os.path.isdir(class_path):\n",
    "        # Get all image filenames in the folder\n",
    "        images = [f for f in os.listdir(class_path) if os.path.isfile(os.path.join(class_path, f))]\n",
    "        \n",
    "        if not images:\n",
    "            print(f\"No images found in {class_name}, skipping...\")\n",
    "            continue\n",
    "        \n",
    "        # Split the dataset into train, valid, and test\n",
    "        train_files, temp_files = train_test_split(images, test_size=(1 - train_ratio), random_state=42)\n",
    "        valid_files, test_files = train_test_split(temp_files, test_size=(test_ratio / (valid_ratio + test_ratio)), random_state=42)\n",
    "        \n",
    "        # Copy files to respective directories\n",
    "        for split, split_files in zip(subdirs, [train_files, valid_files, test_files]):\n",
    "            split_class_dir = os.path.join(output_dir, split, class_name)\n",
    "            os.makedirs(split_class_dir, exist_ok=True)\n",
    "            \n",
    "            for file_name in split_files:\n",
    "                src = os.path.join(class_path, file_name)\n",
    "                dest = os.path.join(split_class_dir, file_name)\n",
    "                shutil.copy(src, dest)\n",
    "\n",
    "print(\"Dataset has been successfully split into train, valid, and test sets!\")\n",
    "\n",
    "\n"
   ]
  },
  {
   "cell_type": "code",
   "execution_count": 4,
   "id": "fd58766d",
   "metadata": {
    "execution": {
     "iopub.execute_input": "2025-01-06T16:35:20.958476Z",
     "iopub.status.busy": "2025-01-06T16:35:20.958176Z",
     "iopub.status.idle": "2025-01-06T16:35:34.768289Z",
     "shell.execute_reply": "2025-01-06T16:35:34.767208Z"
    },
    "papermill": {
     "duration": 13.815383,
     "end_time": "2025-01-06T16:35:34.770377",
     "exception": false,
     "start_time": "2025-01-06T16:35:20.954994",
     "status": "completed"
    },
    "tags": []
   },
   "outputs": [
    {
     "name": "stdout",
     "output_type": "stream",
     "text": [
      "Found 38791 images belonging to 39 classes.\n",
      "Found 11087 images belonging to 39 classes.\n",
      "Found 5570 images belonging to 39 classes.\n",
      "Class Indices: {'Apple___Apple_scab': 0, 'Apple___Black_rot': 1, 'Apple___Cedar_apple_rust': 2, 'Apple___healthy': 3, 'Background_without_leaves': 4, 'Blueberry___healthy': 5, 'Cherry___Powdery_mildew': 6, 'Cherry___healthy': 7, 'Corn___Cercospora_leaf_spot Gray_leaf_spot': 8, 'Corn___Common_rust': 9, 'Corn___Northern_Leaf_Blight': 10, 'Corn___healthy': 11, 'Grape___Black_rot': 12, 'Grape___Esca_(Black_Measles)': 13, 'Grape___Leaf_blight_(Isariopsis_Leaf_Spot)': 14, 'Grape___healthy': 15, 'Orange___Haunglongbing_(Citrus_greening)': 16, 'Peach___Bacterial_spot': 17, 'Peach___healthy': 18, 'Pepper,_bell___Bacterial_spot': 19, 'Pepper,_bell___healthy': 20, 'Potato___Early_blight': 21, 'Potato___Late_blight': 22, 'Potato___healthy': 23, 'Raspberry___healthy': 24, 'Soybean___healthy': 25, 'Squash___Powdery_mildew': 26, 'Strawberry___Leaf_scorch': 27, 'Strawberry___healthy': 28, 'Tomato___Bacterial_spot': 29, 'Tomato___Early_blight': 30, 'Tomato___Late_blight': 31, 'Tomato___Leaf_Mold': 32, 'Tomato___Septoria_leaf_spot': 33, 'Tomato___Spider_mites Two-spotted_spider_mite': 34, 'Tomato___Target_Spot': 35, 'Tomato___Tomato_Yellow_Leaf_Curl_Virus': 36, 'Tomato___Tomato_mosaic_virus': 37, 'Tomato___healthy': 38}\n"
     ]
    }
   ],
   "source": [
    "import os\n",
    "from tensorflow.keras.preprocessing.image import ImageDataGenerator\n",
    "\n",
    "# Paths to split dataset directories\n",
    "base_dir = \"/kaggle/working/\"\n",
    "train_dir = os.path.join(base_dir, 'train')\n",
    "valid_dir = os.path.join(base_dir, 'valid')\n",
    "test_dir = os.path.join(base_dir, 'test')\n",
    "\n",
    "# Image dimensions and batch size\n",
    "img_height = 224\n",
    "img_width = 224\n",
    "batch_size = 32\n",
    "\n",
    "# Data Generators for Training, Validation, and Test Sets (Only Rescaling)\n",
    "data_gen = ImageDataGenerator(rescale=1.0/255.0)\n",
    "\n",
    "# Loading Data with Data Generators\n",
    "train_generator = data_gen.flow_from_directory(\n",
    "    train_dir,\n",
    "    target_size=(img_height, img_width),\n",
    "    batch_size=batch_size,\n",
    "    class_mode='categorical' \n",
    ")\n",
    "\n",
    "valid_generator = data_gen.flow_from_directory(\n",
    "    valid_dir,\n",
    "    target_size=(img_height, img_width),\n",
    "    batch_size=batch_size,\n",
    "    class_mode='categorical'\n",
    ")\n",
    "\n",
    "test_generator = data_gen.flow_from_directory(\n",
    "    test_dir,\n",
    "    target_size=(img_height, img_width),\n",
    "    batch_size=batch_size,\n",
    "    class_mode='categorical',\n",
    "    shuffle=False  \n",
    "    \n",
    ")\n",
    "\n",
    "# Display Class Indices\n",
    "class_indices = train_generator.class_indices\n",
    "print(\"Class Indices:\", class_indices)\n"
   ]
  },
  {
   "cell_type": "code",
   "execution_count": 5,
   "id": "ce5c1f9d",
   "metadata": {
    "execution": {
     "iopub.execute_input": "2025-01-06T16:35:34.777040Z",
     "iopub.status.busy": "2025-01-06T16:35:34.776541Z",
     "iopub.status.idle": "2025-01-06T16:35:34.783074Z",
     "shell.execute_reply": "2025-01-06T16:35:34.782284Z"
    },
    "papermill": {
     "duration": 0.012219,
     "end_time": "2025-01-06T16:35:34.785349",
     "exception": false,
     "start_time": "2025-01-06T16:35:34.773130",
     "status": "completed"
    },
    "tags": []
   },
   "outputs": [],
   "source": [
    "import tensorflow as tf\n",
    "from tensorflow.keras.models import Sequential\n",
    "from tensorflow.keras.layers import (\n",
    "    Conv2D, MaxPooling2D, Dense, Dropout, BatchNormalization,\n",
    "    GlobalAveragePooling2D)\n",
    "from tensorflow.keras.optimizers import Adam\n",
    "from sklearn.metrics import classification_report, roc_auc_score\n",
    "import numpy as np"
   ]
  },
  {
   "cell_type": "code",
   "execution_count": 6,
   "id": "2c2cf165",
   "metadata": {
    "execution": {
     "iopub.execute_input": "2025-01-06T16:35:34.795478Z",
     "iopub.status.busy": "2025-01-06T16:35:34.795236Z",
     "iopub.status.idle": "2025-01-06T16:35:36.346989Z",
     "shell.execute_reply": "2025-01-06T16:35:36.345984Z"
    },
    "papermill": {
     "duration": 1.558971,
     "end_time": "2025-01-06T16:35:36.349209",
     "exception": false,
     "start_time": "2025-01-06T16:35:34.790238",
     "status": "completed"
    },
    "tags": []
   },
   "outputs": [],
   "source": [
    "model = Sequential([\n",
    "    # First block\n",
    "    Conv2D(32, (3, 3), activation='relu', input_shape=(224, 224, 3), padding='same'),\n",
    "    BatchNormalization(),\n",
    "    Conv2D(32, (3, 3), activation='relu', padding='same'),\n",
    "    BatchNormalization(),\n",
    "    MaxPooling2D((2, 2)),\n",
    "\n",
    "    # Second block\n",
    "    Conv2D(64, (3, 3), activation='relu', padding='same'),\n",
    "    BatchNormalization(),\n",
    "    Conv2D(64, (3, 3), activation='relu', padding='same'),\n",
    "    BatchNormalization(),\n",
    "    MaxPooling2D((2, 2)),\n",
    "\n",
    "    # Third block\n",
    "    Conv2D(128, (3, 3), activation='relu', padding='same'),\n",
    "    BatchNormalization(),\n",
    "    Conv2D(128, (3, 3), activation='relu', padding='same'),\n",
    "    BatchNormalization(),\n",
    "    MaxPooling2D((2, 2)),\n",
    "\n",
    "    # Fourth block\n",
    "    Conv2D(256, (3, 3), activation='relu', padding='same'),\n",
    "    BatchNormalization(),\n",
    "    Conv2D(256, (3, 3), activation='relu', padding='same'),\n",
    "    BatchNormalization(),\n",
    "    MaxPooling2D((2, 2)),\n",
    "\n",
    "    # Global Average Pooling\n",
    "    GlobalAveragePooling2D(),\n",
    "\n",
    "    # Fully connected layers\n",
    "    Dense(256, activation='relu'),\n",
    "    BatchNormalization(),\n",
    "    Dropout(0.25),\n",
    "    Dense(len(train_generator.class_indices), activation='softmax')  # Number of classes\n",
    "])\n"
   ]
  },
  {
   "cell_type": "code",
   "execution_count": 7,
   "id": "2b512022",
   "metadata": {
    "execution": {
     "iopub.execute_input": "2025-01-06T16:35:36.361858Z",
     "iopub.status.busy": "2025-01-06T16:35:36.361322Z",
     "iopub.status.idle": "2025-01-06T16:35:36.376180Z",
     "shell.execute_reply": "2025-01-06T16:35:36.375358Z"
    },
    "papermill": {
     "duration": 0.020676,
     "end_time": "2025-01-06T16:35:36.378049",
     "exception": false,
     "start_time": "2025-01-06T16:35:36.357373",
     "status": "completed"
    },
    "tags": []
   },
   "outputs": [],
   "source": [
    "model.compile(\n",
    "    optimizer=Adam(learning_rate=0.001),\n",
    "    loss='categorical_crossentropy',\n",
    "    metrics=['accuracy']\n",
    ")"
   ]
  },
  {
   "cell_type": "code",
   "execution_count": 8,
   "id": "45d479e2",
   "metadata": {
    "execution": {
     "iopub.execute_input": "2025-01-06T16:35:36.384355Z",
     "iopub.status.busy": "2025-01-06T16:35:36.383945Z",
     "iopub.status.idle": "2025-01-06T17:30:40.216982Z",
     "shell.execute_reply": "2025-01-06T17:30:40.216014Z"
    },
    "papermill": {
     "duration": 3304.724562,
     "end_time": "2025-01-06T17:30:41.105387",
     "exception": false,
     "start_time": "2025-01-06T16:35:36.380825",
     "status": "completed"
    },
    "tags": []
   },
   "outputs": [
    {
     "name": "stdout",
     "output_type": "stream",
     "text": [
      "Epoch 1/15\n",
      "1213/1213 [==============================] - 233s 182ms/step - loss: 1.0214 - accuracy: 0.6995 - val_loss: 2.0805 - val_accuracy: 0.4810\n",
      "Epoch 2/15\n",
      "1213/1213 [==============================] - 219s 180ms/step - loss: 0.4226 - accuracy: 0.8657 - val_loss: 0.6973 - val_accuracy: 0.8111\n",
      "Epoch 3/15\n",
      "1213/1213 [==============================] - 219s 181ms/step - loss: 0.2699 - accuracy: 0.9135 - val_loss: 0.8485 - val_accuracy: 0.7504\n",
      "Epoch 4/15\n",
      "1213/1213 [==============================] - 219s 180ms/step - loss: 0.2039 - accuracy: 0.9339 - val_loss: 0.4644 - val_accuracy: 0.8575\n",
      "Epoch 5/15\n",
      "1213/1213 [==============================] - 218s 179ms/step - loss: 0.1682 - accuracy: 0.9457 - val_loss: 1.1093 - val_accuracy: 0.7326\n",
      "Epoch 6/15\n",
      "1213/1213 [==============================] - 219s 181ms/step - loss: 0.1410 - accuracy: 0.9535 - val_loss: 1.8459 - val_accuracy: 0.5692\n",
      "Epoch 7/15\n",
      "1213/1213 [==============================] - 220s 181ms/step - loss: 0.1210 - accuracy: 0.9606 - val_loss: 0.7206 - val_accuracy: 0.8116\n",
      "Epoch 8/15\n",
      "1213/1213 [==============================] - 219s 180ms/step - loss: 0.1047 - accuracy: 0.9663 - val_loss: 0.5694 - val_accuracy: 0.8456\n",
      "Epoch 9/15\n",
      "1213/1213 [==============================] - 220s 181ms/step - loss: 0.0885 - accuracy: 0.9706 - val_loss: 0.1553 - val_accuracy: 0.9523\n",
      "Epoch 10/15\n",
      "1213/1213 [==============================] - 219s 181ms/step - loss: 0.0815 - accuracy: 0.9732 - val_loss: 0.6116 - val_accuracy: 0.8460\n",
      "Epoch 11/15\n",
      "1213/1213 [==============================] - 219s 181ms/step - loss: 0.0679 - accuracy: 0.9780 - val_loss: 0.2638 - val_accuracy: 0.9280\n",
      "Epoch 12/15\n",
      "1213/1213 [==============================] - 218s 180ms/step - loss: 0.0678 - accuracy: 0.9775 - val_loss: 0.1366 - val_accuracy: 0.9598\n",
      "Epoch 13/15\n",
      "1213/1213 [==============================] - 219s 180ms/step - loss: 0.0592 - accuracy: 0.9799 - val_loss: 1.7716 - val_accuracy: 0.6985\n",
      "Epoch 14/15\n",
      "1213/1213 [==============================] - 222s 183ms/step - loss: 0.0544 - accuracy: 0.9814 - val_loss: 1.3089 - val_accuracy: 0.7666\n",
      "Epoch 15/15\n",
      "1213/1213 [==============================] - 220s 181ms/step - loss: 0.0448 - accuracy: 0.9855 - val_loss: 0.1569 - val_accuracy: 0.9560\n"
     ]
    }
   ],
   "source": [
    "history = model.fit(\n",
    "    train_generator,\n",
    "    validation_data=valid_generator,\n",
    "    epochs=15,  \n",
    "    verbose=1\n",
    ")"
   ]
  },
  {
   "cell_type": "code",
   "execution_count": 9,
   "id": "c7a2b394",
   "metadata": {
    "execution": {
     "iopub.execute_input": "2025-01-06T17:30:42.953355Z",
     "iopub.status.busy": "2025-01-06T17:30:42.952630Z",
     "iopub.status.idle": "2025-01-06T17:30:52.386119Z",
     "shell.execute_reply": "2025-01-06T17:30:52.385163Z"
    },
    "papermill": {
     "duration": 10.364338,
     "end_time": "2025-01-06T17:30:52.387931",
     "exception": false,
     "start_time": "2025-01-06T17:30:42.023593",
     "status": "completed"
    },
    "tags": []
   },
   "outputs": [
    {
     "name": "stdout",
     "output_type": "stream",
     "text": [
      "175/175 [==============================] - 9s 53ms/step - loss: 0.1418 - accuracy: 0.9573\n",
      "Test Accuracy: 0.9573\n"
     ]
    }
   ],
   "source": [
    "test_loss, test_accuracy = model.evaluate(test_generator, verbose=1)\n",
    "print(f\"Test Accuracy: {test_accuracy:.4f}\")"
   ]
  },
  {
   "cell_type": "code",
   "execution_count": 10,
   "id": "b5a8d513",
   "metadata": {
    "execution": {
     "iopub.execute_input": "2025-01-06T17:30:54.260137Z",
     "iopub.status.busy": "2025-01-06T17:30:54.259710Z",
     "iopub.status.idle": "2025-01-06T17:31:04.683231Z",
     "shell.execute_reply": "2025-01-06T17:31:04.682153Z"
    },
    "papermill": {
     "duration": 11.378222,
     "end_time": "2025-01-06T17:31:04.685366",
     "exception": false,
     "start_time": "2025-01-06T17:30:53.307144",
     "status": "completed"
    },
    "tags": []
   },
   "outputs": [
    {
     "name": "stdout",
     "output_type": "stream",
     "text": [
      "175/175 [==============================] - 10s 57ms/step\n",
      "\n",
      "Classification Report:\n",
      "                                               precision    recall  f1-score   support\n",
      "\n",
      "                           Apple___Apple_scab       0.97      0.97      0.97        64\n",
      "                            Apple___Black_rot       0.94      1.00      0.97        63\n",
      "                     Apple___Cedar_apple_rust       1.00      1.00      1.00        28\n",
      "                              Apple___healthy       0.99      0.96      0.97       165\n",
      "                    Background_without_leaves       0.70      1.00      0.82       115\n",
      "                          Blueberry___healthy       0.99      0.99      0.99       151\n",
      "                      Cherry___Powdery_mildew       0.98      0.86      0.91       106\n",
      "                             Cherry___healthy       1.00      0.94      0.97        86\n",
      "   Corn___Cercospora_leaf_spot Gray_leaf_spot       0.96      0.83      0.89        52\n",
      "                           Corn___Common_rust       0.99      0.99      0.99       120\n",
      "                  Corn___Northern_Leaf_Blight       0.95      0.99      0.97        99\n",
      "                               Corn___healthy       0.96      0.99      0.97       117\n",
      "                            Grape___Black_rot       1.00      0.92      0.96       119\n",
      "                 Grape___Esca_(Black_Measles)       0.96      0.98      0.97       139\n",
      "   Grape___Leaf_blight_(Isariopsis_Leaf_Spot)       1.00      0.91      0.95       108\n",
      "                              Grape___healthy       1.00      0.84      0.91        43\n",
      "     Orange___Haunglongbing_(Citrus_greening)       1.00      0.98      0.99       551\n",
      "                       Peach___Bacterial_spot       0.99      0.98      0.98       230\n",
      "                              Peach___healthy       1.00      0.97      0.99        37\n",
      "                Pepper,_bell___Bacterial_spot       1.00      0.87      0.93       100\n",
      "                       Pepper,_bell___healthy       0.94      1.00      0.97       148\n",
      "                        Potato___Early_blight       0.96      0.98      0.97       101\n",
      "                         Potato___Late_blight       0.99      0.93      0.96       101\n",
      "                             Potato___healthy       1.00      0.38      0.55        16\n",
      "                          Raspberry___healthy       1.00      0.92      0.96        38\n",
      "                            Soybean___healthy       0.95      0.99      0.97       510\n",
      "                      Squash___Powdery_mildew       1.00      0.98      0.99       184\n",
      "                     Strawberry___Leaf_scorch       0.99      1.00      1.00       111\n",
      "                         Strawberry___healthy       0.92      1.00      0.96        46\n",
      "                      Tomato___Bacterial_spot       0.98      0.88      0.93       213\n",
      "                        Tomato___Early_blight       0.79      0.88      0.84       101\n",
      "                         Tomato___Late_blight       0.91      0.87      0.89       191\n",
      "                           Tomato___Leaf_Mold       0.96      0.96      0.96        96\n",
      "                  Tomato___Septoria_leaf_spot       0.95      0.97      0.96       178\n",
      "Tomato___Spider_mites Two-spotted_spider_mite       0.91      0.99      0.95       168\n",
      "                         Tomato___Target_Spot       0.96      0.83      0.89       141\n",
      "       Tomato___Tomato_Yellow_Leaf_Curl_Virus       0.95      0.99      0.97       536\n",
      "                 Tomato___Tomato_mosaic_virus       0.90      1.00      0.95        38\n",
      "                             Tomato___healthy       0.96      0.98      0.97       160\n",
      "\n",
      "                                     accuracy                           0.96      5570\n",
      "                                    macro avg       0.96      0.94      0.94      5570\n",
      "                                 weighted avg       0.96      0.96      0.96      5570\n",
      "\n"
     ]
    }
   ],
   "source": [
    "# Predictions and true labels\n",
    "y_pred_probs = model.predict(test_generator, verbose=1)\n",
    "y_pred_classes = np.argmax(y_pred_probs, axis=1)\n",
    "y_true = test_generator.classes\n",
    "\n",
    "# Metrics: Classification Report\n",
    "print(\"\\nClassification Report:\")\n",
    "class_labels = list(test_generator.class_indices.keys())\n",
    "print(classification_report(y_true, y_pred_classes, target_names=class_labels))"
   ]
  }
 ],
 "metadata": {
  "kaggle": {
   "accelerator": "nvidiaTeslaT4",
   "dataSources": [
    {
     "datasetId": 6121008,
     "sourceId": 9952857,
     "sourceType": "datasetVersion"
    }
   ],
   "dockerImageVersionId": 30587,
   "isGpuEnabled": true,
   "isInternetEnabled": true,
   "language": "python",
   "sourceType": "notebook"
  },
  "kernelspec": {
   "display_name": "Python 3",
   "language": "python",
   "name": "python3"
  },
  "language_info": {
   "codemirror_mode": {
    "name": "ipython",
    "version": 3
   },
   "file_extension": ".py",
   "mimetype": "text/x-python",
   "name": "python",
   "nbconvert_exporter": "python",
   "pygments_lexer": "ipython3",
   "version": "3.10.12"
  },
  "papermill": {
   "default_parameters": {},
   "duration": 3596.721368,
   "end_time": "2025-01-06T17:31:08.724502",
   "environment_variables": {},
   "exception": null,
   "input_path": "__notebook__.ipynb",
   "output_path": "__notebook__.ipynb",
   "parameters": {},
   "start_time": "2025-01-06T16:31:12.003134",
   "version": "2.4.0"
  }
 },
 "nbformat": 4,
 "nbformat_minor": 5
}
