{
 "cells": [
  {
   "cell_type": "code",
   "execution_count": 1,
   "id": "97dba58c",
   "metadata": {
    "execution": {
     "iopub.execute_input": "2025-01-06T16:38:04.313271Z",
     "iopub.status.busy": "2025-01-06T16:38:04.312917Z",
     "iopub.status.idle": "2025-01-06T16:38:05.397365Z",
     "shell.execute_reply": "2025-01-06T16:38:05.396691Z"
    },
    "papermill": {
     "duration": 1.090523,
     "end_time": "2025-01-06T16:38:05.399401",
     "exception": false,
     "start_time": "2025-01-06T16:38:04.308878",
     "status": "completed"
    },
    "tags": []
   },
   "outputs": [
    {
     "name": "stderr",
     "output_type": "stream",
     "text": [
      "/opt/conda/lib/python3.10/site-packages/scipy/__init__.py:146: UserWarning: A NumPy version >=1.16.5 and <1.23.0 is required for this version of SciPy (detected version 1.24.3\n",
      "  warnings.warn(f\"A NumPy version >={np_minversion} and <{np_maxversion}\"\n"
     ]
    }
   ],
   "source": [
    "import os\n",
    "import zipfile\n",
    "import shutil\n",
    "from sklearn.model_selection import train_test_split"
   ]
  },
  {
   "cell_type": "code",
   "execution_count": 2,
   "id": "438f4091",
   "metadata": {
    "execution": {
     "iopub.execute_input": "2025-01-06T16:38:05.406736Z",
     "iopub.status.busy": "2025-01-06T16:38:05.406043Z",
     "iopub.status.idle": "2025-01-06T16:38:05.409927Z",
     "shell.execute_reply": "2025-01-06T16:38:05.409130Z"
    },
    "papermill": {
     "duration": 0.009011,
     "end_time": "2025-01-06T16:38:05.411631",
     "exception": false,
     "start_time": "2025-01-06T16:38:05.402620",
     "status": "completed"
    },
    "tags": []
   },
   "outputs": [],
   "source": [
    "extract_path = \"/kaggle/input/plant-leaf/Plant_leave_diseases_dataset_without_augmentation\"\n",
    "output_dir = '/kaggle/working/'"
   ]
  },
  {
   "cell_type": "code",
   "execution_count": 3,
   "id": "2505513b",
   "metadata": {
    "execution": {
     "iopub.execute_input": "2025-01-06T16:38:05.417225Z",
     "iopub.status.busy": "2025-01-06T16:38:05.416838Z",
     "iopub.status.idle": "2025-01-06T16:42:09.213527Z",
     "shell.execute_reply": "2025-01-06T16:42:09.212587Z"
    },
    "papermill": {
     "duration": 243.8037,
     "end_time": "2025-01-06T16:42:09.217592",
     "exception": false,
     "start_time": "2025-01-06T16:38:05.413892",
     "status": "completed"
    },
    "tags": []
   },
   "outputs": [
    {
     "name": "stdout",
     "output_type": "stream",
     "text": [
      "Dataset has been successfully split into train, valid, and test sets!\n"
     ]
    }
   ],
   "source": [
    "# Create output subdirectories for train, valid, and test\n",
    "subdirs = ['train', 'valid', 'test']\n",
    "for subdir in subdirs:\n",
    "    os.makedirs(os.path.join(output_dir, subdir), exist_ok=True)\n",
    "\n",
    "# Split ratios\n",
    "train_ratio = 0.7\n",
    "valid_ratio = 0.2\n",
    "test_ratio = 0.1\n",
    "\n",
    "# Process each class folder\n",
    "for class_name in os.listdir(extract_path):\n",
    "    class_path = os.path.join(extract_path, class_name)\n",
    "    \n",
    "    # Check if it's a directory\n",
    "    if os.path.isdir(class_path):\n",
    "        # Get all image filenames in the folder\n",
    "        images = [f for f in os.listdir(class_path) if os.path.isfile(os.path.join(class_path, f))]\n",
    "        \n",
    "        if not images:\n",
    "            print(f\"No images found in {class_name}, skipping...\")\n",
    "            continue\n",
    "        \n",
    "        # Split the dataset into train, valid, and test\n",
    "        train_files, temp_files = train_test_split(images, test_size=(1 - train_ratio), random_state=42)\n",
    "        valid_files, test_files = train_test_split(temp_files, test_size=(test_ratio / (valid_ratio + test_ratio)), random_state=42)\n",
    "        \n",
    "        # Copy files to respective directories\n",
    "        for split, split_files in zip(subdirs, [train_files, valid_files, test_files]):\n",
    "            split_class_dir = os.path.join(output_dir, split, class_name)\n",
    "            os.makedirs(split_class_dir, exist_ok=True)\n",
    "            \n",
    "            for file_name in split_files:\n",
    "                src = os.path.join(class_path, file_name)\n",
    "                dest = os.path.join(split_class_dir, file_name)\n",
    "                shutil.copy(src, dest)\n",
    "\n",
    "print(\"Dataset has been successfully split into train, valid, and test sets!\")\n",
    "\n",
    "\n"
   ]
  },
  {
   "cell_type": "code",
   "execution_count": 4,
   "id": "317999da",
   "metadata": {
    "execution": {
     "iopub.execute_input": "2025-01-06T16:42:09.223283Z",
     "iopub.status.busy": "2025-01-06T16:42:09.223037Z",
     "iopub.status.idle": "2025-01-06T16:42:22.847415Z",
     "shell.execute_reply": "2025-01-06T16:42:22.846444Z"
    },
    "papermill": {
     "duration": 13.629279,
     "end_time": "2025-01-06T16:42:22.849234",
     "exception": false,
     "start_time": "2025-01-06T16:42:09.219955",
     "status": "completed"
    },
    "tags": []
   },
   "outputs": [
    {
     "name": "stdout",
     "output_type": "stream",
     "text": [
      "Found 38791 images belonging to 39 classes.\n",
      "Found 11087 images belonging to 39 classes.\n",
      "Found 5570 images belonging to 39 classes.\n",
      "Class Indices: {'Apple___Apple_scab': 0, 'Apple___Black_rot': 1, 'Apple___Cedar_apple_rust': 2, 'Apple___healthy': 3, 'Background_without_leaves': 4, 'Blueberry___healthy': 5, 'Cherry___Powdery_mildew': 6, 'Cherry___healthy': 7, 'Corn___Cercospora_leaf_spot Gray_leaf_spot': 8, 'Corn___Common_rust': 9, 'Corn___Northern_Leaf_Blight': 10, 'Corn___healthy': 11, 'Grape___Black_rot': 12, 'Grape___Esca_(Black_Measles)': 13, 'Grape___Leaf_blight_(Isariopsis_Leaf_Spot)': 14, 'Grape___healthy': 15, 'Orange___Haunglongbing_(Citrus_greening)': 16, 'Peach___Bacterial_spot': 17, 'Peach___healthy': 18, 'Pepper,_bell___Bacterial_spot': 19, 'Pepper,_bell___healthy': 20, 'Potato___Early_blight': 21, 'Potato___Late_blight': 22, 'Potato___healthy': 23, 'Raspberry___healthy': 24, 'Soybean___healthy': 25, 'Squash___Powdery_mildew': 26, 'Strawberry___Leaf_scorch': 27, 'Strawberry___healthy': 28, 'Tomato___Bacterial_spot': 29, 'Tomato___Early_blight': 30, 'Tomato___Late_blight': 31, 'Tomato___Leaf_Mold': 32, 'Tomato___Septoria_leaf_spot': 33, 'Tomato___Spider_mites Two-spotted_spider_mite': 34, 'Tomato___Target_Spot': 35, 'Tomato___Tomato_Yellow_Leaf_Curl_Virus': 36, 'Tomato___Tomato_mosaic_virus': 37, 'Tomato___healthy': 38}\n"
     ]
    }
   ],
   "source": [
    "import os\n",
    "from tensorflow.keras.preprocessing.image import ImageDataGenerator\n",
    "\n",
    "# Paths to split dataset directories\n",
    "base_dir = \"/kaggle/working/\"\n",
    "train_dir = os.path.join(base_dir, 'train')\n",
    "valid_dir = os.path.join(base_dir, 'valid')\n",
    "test_dir = os.path.join(base_dir, 'test')\n",
    "\n",
    "# Image dimensions and batch size\n",
    "img_height = 224\n",
    "img_width = 224\n",
    "batch_size = 32\n",
    "\n",
    "# Data Generators for Training, Validation, and Test Sets (Only Rescaling)\n",
    "data_gen = ImageDataGenerator(rescale=1.0/255.0)\n",
    "\n",
    "# Loading Data with Data Generators\n",
    "train_generator = data_gen.flow_from_directory(\n",
    "    train_dir,\n",
    "    target_size=(img_height, img_width),\n",
    "    batch_size=batch_size,\n",
    "    class_mode='categorical' \n",
    ")\n",
    "\n",
    "valid_generator = data_gen.flow_from_directory(\n",
    "    valid_dir,\n",
    "    target_size=(img_height, img_width),\n",
    "    batch_size=batch_size,\n",
    "    class_mode='categorical'\n",
    ")\n",
    "\n",
    "test_generator = data_gen.flow_from_directory(\n",
    "    test_dir,\n",
    "    target_size=(img_height, img_width),\n",
    "    batch_size=batch_size,\n",
    "    class_mode='categorical',\n",
    "    shuffle=False  \n",
    "    \n",
    ")\n",
    "\n",
    "# Display Class Indices\n",
    "class_indices = train_generator.class_indices\n",
    "print(\"Class Indices:\", class_indices)\n"
   ]
  },
  {
   "cell_type": "code",
   "execution_count": 5,
   "id": "e23b2938",
   "metadata": {
    "execution": {
     "iopub.execute_input": "2025-01-06T16:42:22.856282Z",
     "iopub.status.busy": "2025-01-06T16:42:22.855607Z",
     "iopub.status.idle": "2025-01-06T16:42:22.861884Z",
     "shell.execute_reply": "2025-01-06T16:42:22.861305Z"
    },
    "papermill": {
     "duration": 0.011441,
     "end_time": "2025-01-06T16:42:22.863401",
     "exception": false,
     "start_time": "2025-01-06T16:42:22.851960",
     "status": "completed"
    },
    "tags": []
   },
   "outputs": [],
   "source": [
    "import tensorflow as tf\n",
    "from tensorflow.keras.models import Sequential\n",
    "from tensorflow.keras.layers import (\n",
    "    Conv2D, MaxPooling2D, Dense, Dropout, BatchNormalization,\n",
    "    GlobalAveragePooling2D)\n",
    "from tensorflow.keras.optimizers import Adam\n",
    "from sklearn.metrics import classification_report, roc_auc_score\n",
    "import numpy as np"
   ]
  },
  {
   "cell_type": "code",
   "execution_count": 6,
   "id": "02440c1e",
   "metadata": {
    "execution": {
     "iopub.execute_input": "2025-01-06T16:42:22.869432Z",
     "iopub.status.busy": "2025-01-06T16:42:22.869194Z",
     "iopub.status.idle": "2025-01-06T16:42:24.408739Z",
     "shell.execute_reply": "2025-01-06T16:42:24.407752Z"
    },
    "papermill": {
     "duration": 1.544818,
     "end_time": "2025-01-06T16:42:24.410785",
     "exception": false,
     "start_time": "2025-01-06T16:42:22.865967",
     "status": "completed"
    },
    "tags": []
   },
   "outputs": [],
   "source": [
    "model = Sequential([\n",
    "    # First block\n",
    "    Conv2D(32, (3, 3), activation='relu', input_shape=(224, 224, 3), padding='same'),\n",
    "    BatchNormalization(),\n",
    "    Conv2D(32, (3, 3), activation='relu', padding='same'),\n",
    "    BatchNormalization(),\n",
    "    MaxPooling2D((2, 2)),\n",
    "\n",
    "    # Second block\n",
    "    Conv2D(64, (3, 3), activation='relu', padding='same'),\n",
    "    BatchNormalization(),\n",
    "    Conv2D(64, (3, 3), activation='relu', padding='same'),\n",
    "    BatchNormalization(),\n",
    "    MaxPooling2D((2, 2)),\n",
    "\n",
    "    # Third block\n",
    "    Conv2D(128, (3, 3), activation='relu', padding='same'),\n",
    "    BatchNormalization(),\n",
    "    Conv2D(128, (3, 3), activation='relu', padding='same'),\n",
    "    BatchNormalization(),\n",
    "    MaxPooling2D((2, 2)),\n",
    "\n",
    "    # Fourth block\n",
    "    Conv2D(256, (3, 3), activation='relu', padding='same'),\n",
    "    BatchNormalization(),\n",
    "    Conv2D(256, (1,1), activation='relu', padding='same'),\n",
    "    BatchNormalization(),\n",
    "    MaxPooling2D((2, 2)),\n",
    "\n",
    "    # Global Average Pooling\n",
    "    GlobalAveragePooling2D(),\n",
    "\n",
    "    # Fully connected layers\n",
    "    Dense(256, activation='relu'),\n",
    "    BatchNormalization(),\n",
    "    Dropout(0.25),\n",
    "    Dense(len(train_generator.class_indices), activation='softmax')  # Number of classes\n",
    "])\n"
   ]
  },
  {
   "cell_type": "code",
   "execution_count": 7,
   "id": "28f5ed05",
   "metadata": {
    "execution": {
     "iopub.execute_input": "2025-01-06T16:42:24.422384Z",
     "iopub.status.busy": "2025-01-06T16:42:24.422070Z",
     "iopub.status.idle": "2025-01-06T16:42:24.437581Z",
     "shell.execute_reply": "2025-01-06T16:42:24.436952Z"
    },
    "papermill": {
     "duration": 0.022297,
     "end_time": "2025-01-06T16:42:24.439101",
     "exception": false,
     "start_time": "2025-01-06T16:42:24.416804",
     "status": "completed"
    },
    "tags": []
   },
   "outputs": [],
   "source": [
    "model.compile(\n",
    "    optimizer=Adam(learning_rate=0.001),\n",
    "    loss='categorical_crossentropy',\n",
    "    metrics=['accuracy']\n",
    ")"
   ]
  },
  {
   "cell_type": "code",
   "execution_count": 8,
   "id": "6ff8c4cb",
   "metadata": {
    "execution": {
     "iopub.execute_input": "2025-01-06T16:42:24.445549Z",
     "iopub.status.busy": "2025-01-06T16:42:24.444919Z",
     "iopub.status.idle": "2025-01-06T17:42:14.696503Z",
     "shell.execute_reply": "2025-01-06T17:42:14.695435Z"
    },
    "papermill": {
     "duration": 3591.164687,
     "end_time": "2025-01-06T17:42:15.606403",
     "exception": false,
     "start_time": "2025-01-06T16:42:24.441716",
     "status": "completed"
    },
    "tags": []
   },
   "outputs": [
    {
     "name": "stdout",
     "output_type": "stream",
     "text": [
      "Epoch 1/15\n",
      "1213/1213 [==============================] - 241s 189ms/step - loss: 0.9453 - accuracy: 0.7237 - val_loss: 0.5974 - val_accuracy: 0.8114\n",
      "Epoch 2/15\n",
      "1213/1213 [==============================] - 240s 197ms/step - loss: 0.3659 - accuracy: 0.8852 - val_loss: 1.1718 - val_accuracy: 0.7070\n",
      "Epoch 3/15\n",
      "1213/1213 [==============================] - 241s 198ms/step - loss: 0.2492 - accuracy: 0.9197 - val_loss: 0.4803 - val_accuracy: 0.8530\n",
      "Epoch 4/15\n",
      "1213/1213 [==============================] - 240s 198ms/step - loss: 0.1771 - accuracy: 0.9421 - val_loss: 0.9593 - val_accuracy: 0.7575\n",
      "Epoch 5/15\n",
      "1213/1213 [==============================] - 239s 197ms/step - loss: 0.1508 - accuracy: 0.9505 - val_loss: 0.7034 - val_accuracy: 0.8320\n",
      "Epoch 6/15\n",
      "1213/1213 [==============================] - 241s 198ms/step - loss: 0.1298 - accuracy: 0.9580 - val_loss: 1.2374 - val_accuracy: 0.7066\n",
      "Epoch 7/15\n",
      "1213/1213 [==============================] - 237s 196ms/step - loss: 0.1035 - accuracy: 0.9661 - val_loss: 1.7679 - val_accuracy: 0.6712\n",
      "Epoch 8/15\n",
      "1213/1213 [==============================] - 239s 197ms/step - loss: 0.0891 - accuracy: 0.9715 - val_loss: 0.2442 - val_accuracy: 0.9269\n",
      "Epoch 9/15\n",
      "1213/1213 [==============================] - 239s 197ms/step - loss: 0.0737 - accuracy: 0.9764 - val_loss: 0.2161 - val_accuracy: 0.9321\n",
      "Epoch 10/15\n",
      "1213/1213 [==============================] - 238s 196ms/step - loss: 0.0733 - accuracy: 0.9765 - val_loss: 0.2379 - val_accuracy: 0.9248\n",
      "Epoch 11/15\n",
      "1213/1213 [==============================] - 240s 198ms/step - loss: 0.0653 - accuracy: 0.9795 - val_loss: 0.1430 - val_accuracy: 0.9571\n",
      "Epoch 12/15\n",
      "1213/1213 [==============================] - 239s 197ms/step - loss: 0.0555 - accuracy: 0.9809 - val_loss: 0.5319 - val_accuracy: 0.8704\n",
      "Epoch 13/15\n",
      "1213/1213 [==============================] - 238s 196ms/step - loss: 0.0551 - accuracy: 0.9820 - val_loss: 0.0811 - val_accuracy: 0.9738\n",
      "Epoch 14/15\n",
      "1213/1213 [==============================] - 239s 197ms/step - loss: 0.0461 - accuracy: 0.9843 - val_loss: 0.6741 - val_accuracy: 0.8297\n",
      "Epoch 15/15\n",
      "1213/1213 [==============================] - 240s 198ms/step - loss: 0.0486 - accuracy: 0.9844 - val_loss: 0.1057 - val_accuracy: 0.9685\n"
     ]
    }
   ],
   "source": [
    "history = model.fit(\n",
    "    train_generator,\n",
    "    validation_data=valid_generator,\n",
    "    epochs=15,  \n",
    "    verbose=1\n",
    ")"
   ]
  },
  {
   "cell_type": "code",
   "execution_count": 9,
   "id": "ad59c1e5",
   "metadata": {
    "execution": {
     "iopub.execute_input": "2025-01-06T17:42:17.307046Z",
     "iopub.status.busy": "2025-01-06T17:42:17.305886Z",
     "iopub.status.idle": "2025-01-06T17:42:26.545992Z",
     "shell.execute_reply": "2025-01-06T17:42:26.545218Z"
    },
    "papermill": {
     "duration": 10.132404,
     "end_time": "2025-01-06T17:42:26.547605",
     "exception": false,
     "start_time": "2025-01-06T17:42:16.415201",
     "status": "completed"
    },
    "tags": []
   },
   "outputs": [
    {
     "name": "stdout",
     "output_type": "stream",
     "text": [
      "175/175 [==============================] - 9s 52ms/step - loss: 0.1044 - accuracy: 0.9697\n",
      "Test Accuracy: 0.9697\n"
     ]
    }
   ],
   "source": [
    "test_loss, test_accuracy = model.evaluate(test_generator, verbose=1)\n",
    "print(f\"Test Accuracy: {test_accuracy:.4f}\")"
   ]
  },
  {
   "cell_type": "code",
   "execution_count": 10,
   "id": "de525439",
   "metadata": {
    "execution": {
     "iopub.execute_input": "2025-01-06T17:42:28.289666Z",
     "iopub.status.busy": "2025-01-06T17:42:28.289301Z",
     "iopub.status.idle": "2025-01-06T17:42:36.990373Z",
     "shell.execute_reply": "2025-01-06T17:42:36.989518Z"
    },
    "papermill": {
     "duration": 9.52613,
     "end_time": "2025-01-06T17:42:36.992287",
     "exception": false,
     "start_time": "2025-01-06T17:42:27.466157",
     "status": "completed"
    },
    "tags": []
   },
   "outputs": [
    {
     "name": "stdout",
     "output_type": "stream",
     "text": [
      "175/175 [==============================] - 8s 47ms/step\n",
      "\n",
      "Classification Report:\n",
      "                                               precision    recall  f1-score   support\n",
      "\n",
      "                           Apple___Apple_scab       1.00      1.00      1.00        64\n",
      "                            Apple___Black_rot       1.00      0.89      0.94        63\n",
      "                     Apple___Cedar_apple_rust       1.00      1.00      1.00        28\n",
      "                              Apple___healthy       0.99      0.98      0.99       165\n",
      "                    Background_without_leaves       0.93      0.99      0.96       115\n",
      "                          Blueberry___healthy       1.00      0.97      0.99       151\n",
      "                      Cherry___Powdery_mildew       0.98      0.94      0.96       106\n",
      "                             Cherry___healthy       0.98      0.99      0.98        86\n",
      "   Corn___Cercospora_leaf_spot Gray_leaf_spot       0.94      0.90      0.92        52\n",
      "                           Corn___Common_rust       0.98      1.00      0.99       120\n",
      "                  Corn___Northern_Leaf_Blight       0.96      0.96      0.96        99\n",
      "                               Corn___healthy       0.98      1.00      0.99       117\n",
      "                            Grape___Black_rot       0.97      0.98      0.97       119\n",
      "                 Grape___Esca_(Black_Measles)       1.00      0.96      0.98       139\n",
      "   Grape___Leaf_blight_(Isariopsis_Leaf_Spot)       0.97      1.00      0.99       108\n",
      "                              Grape___healthy       0.90      0.84      0.87        43\n",
      "     Orange___Haunglongbing_(Citrus_greening)       0.98      1.00      0.99       551\n",
      "                       Peach___Bacterial_spot       1.00      0.93      0.96       230\n",
      "                              Peach___healthy       0.95      1.00      0.97        37\n",
      "                Pepper,_bell___Bacterial_spot       0.85      1.00      0.92       100\n",
      "                       Pepper,_bell___healthy       0.97      0.94      0.95       148\n",
      "                        Potato___Early_blight       0.96      0.99      0.98       101\n",
      "                         Potato___Late_blight       1.00      0.85      0.92       101\n",
      "                             Potato___healthy       0.94      1.00      0.97        16\n",
      "                          Raspberry___healthy       0.95      0.92      0.93        38\n",
      "                            Soybean___healthy       0.99      0.98      0.98       510\n",
      "                      Squash___Powdery_mildew       0.99      0.97      0.98       184\n",
      "                     Strawberry___Leaf_scorch       1.00      0.95      0.97       111\n",
      "                         Strawberry___healthy       1.00      0.72      0.84        46\n",
      "                      Tomato___Bacterial_spot       0.95      1.00      0.97       213\n",
      "                        Tomato___Early_blight       0.89      0.97      0.93       101\n",
      "                         Tomato___Late_blight       0.90      0.94      0.92       191\n",
      "                           Tomato___Leaf_Mold       0.94      1.00      0.97        96\n",
      "                  Tomato___Septoria_leaf_spot       0.98      0.93      0.95       178\n",
      "Tomato___Spider_mites Two-spotted_spider_mite       0.99      0.95      0.97       168\n",
      "                         Tomato___Target_Spot       0.90      0.99      0.94       141\n",
      "       Tomato___Tomato_Yellow_Leaf_Curl_Virus       0.99      0.99      0.99       536\n",
      "                 Tomato___Tomato_mosaic_virus       0.95      1.00      0.97        38\n",
      "                             Tomato___healthy       0.99      0.99      0.99       160\n",
      "\n",
      "                                     accuracy                           0.97      5570\n",
      "                                    macro avg       0.96      0.96      0.96      5570\n",
      "                                 weighted avg       0.97      0.97      0.97      5570\n",
      "\n"
     ]
    }
   ],
   "source": [
    "# Predictions and true labels\n",
    "y_pred_probs = model.predict(test_generator, verbose=1)\n",
    "y_pred_classes = np.argmax(y_pred_probs, axis=1)\n",
    "y_true = test_generator.classes\n",
    "\n",
    "# Metrics: Classification Report\n",
    "print(\"\\nClassification Report:\")\n",
    "class_labels = list(test_generator.class_indices.keys())\n",
    "print(classification_report(y_true, y_pred_classes, target_names=class_labels))"
   ]
  }
 ],
 "metadata": {
  "kaggle": {
   "accelerator": "nvidiaTeslaT4",
   "dataSources": [
    {
     "datasetId": 6121008,
     "sourceId": 9952857,
     "sourceType": "datasetVersion"
    }
   ],
   "dockerImageVersionId": 30587,
   "isGpuEnabled": true,
   "isInternetEnabled": true,
   "language": "python",
   "sourceType": "notebook"
  },
  "kernelspec": {
   "display_name": "Python 3",
   "language": "python",
   "name": "python3"
  },
  "language_info": {
   "codemirror_mode": {
    "name": "ipython",
    "version": 3
   },
   "file_extension": ".py",
   "mimetype": "text/x-python",
   "name": "python",
   "nbconvert_exporter": "python",
   "pygments_lexer": "ipython3",
   "version": "3.10.12"
  },
  "papermill": {
   "default_parameters": {},
   "duration": 3879.891687,
   "end_time": "2025-01-06T17:42:40.958455",
   "environment_variables": {},
   "exception": null,
   "input_path": "__notebook__.ipynb",
   "output_path": "__notebook__.ipynb",
   "parameters": {},
   "start_time": "2025-01-06T16:38:01.066768",
   "version": "2.4.0"
  }
 },
 "nbformat": 4,
 "nbformat_minor": 5
}
